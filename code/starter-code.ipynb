{
 "cells": [
  {
   "cell_type": "markdown",
   "metadata": {},
   "source": [
    "# Project 1: SAT & ACT Analysis"
   ]
  },
  {
   "cell_type": "markdown",
   "metadata": {},
   "source": [
    "The first markdown cell in a notebook is a great place to provide an overview of your entire project. You will likely want to at least state your\n",
    "\n",
    "## Problem Statement"
   ]
  },
  {
   "cell_type": "markdown",
   "metadata": {},
   "source": [
    "As an employee of the College Board - the organization that administers the SAT - you are a part of a team that tracks statewide participation and recommends where money is best spent to improve SAT participation rates. Your presentation and report should be geared toward **non-technical** executives with the College Board and you will use the provided data and outside research to make recommendations about how the College Board might work to increase the participation rate in a **California**."
   ]
  },
  {
   "cell_type": "markdown",
   "metadata": {},
   "source": [
    "## Executive Summary\n",
    "\n",
    "If you want to, it's great to use relative links to direct your audience to various sections of a notebook. **HERE'S A DEMONSTRATION WITH THE CURRENT SECTION HEADERS**:\n",
    "\n",
    "### Contents:\n",
    "- [2017 Data Import & Cleaning](#Data-Import-and-Cleaning)\n",
    "- [2018 Data Import and Cleaning](#2018-Data-Import-and-Cleaning)\n",
    "- [Exploratory Data Analysis](#Exploratory-Data-Analysis)\n",
    "- [Data Visualization](#Visualize-the-data)\n",
    "- [Descriptive and Inferential Statistics](#Descriptive-and-Inferential-Statistics)\n",
    "- [Outside Research](#Outside-Research)\n",
    "- [Conclusions and Recommendations](#Conclusions-and-Recommendations)"
   ]
  },
  {
   "cell_type": "markdown",
   "metadata": {},
   "source": [
    "**If you combine your problem statement, executive summary, data dictionary, and conclusions/recommendations, you have an amazing README.md file that quickly aligns your audience to the contents of your project.** Don't forget to cite your data sources!"
   ]
  },
  {
   "cell_type": "markdown",
   "metadata": {},
   "source": [
    "*All libraries used should be added here*"
   ]
  },
  {
   "cell_type": "code",
   "execution_count": 1,
   "metadata": {},
   "outputs": [],
   "source": [
    "#Imports:\n",
    "\n",
    "import numpy as np\n",
    "import pandas as pd\n",
    "import scipy.stats as stats\n",
    "import seaborn as sns\n",
    "import matplotlib.pyplot as plt\n",
    "\n",
    "%matplotlib inline"
   ]
  },
  {
   "cell_type": "markdown",
   "metadata": {},
   "source": [
    "## 2017 Data Import and Cleaning"
   ]
  },
  {
   "cell_type": "markdown",
   "metadata": {},
   "source": [
    "#### 1. Read In SAT & ACT  Data\n",
    "\n",
    "Read in the `sat_2017.csv` and `act_2017.csv` files and assign them to appropriately named pandas dataframes."
   ]
  },
  {
   "cell_type": "code",
   "execution_count": 2,
   "metadata": {},
   "outputs": [],
   "source": [
    "#Code:\n",
    "\n",
    "sat2017 = pd.read_csv('~/classes-master/Project1234/project_1/data/sat_2017.csv')\n",
    "act2017 = pd.read_csv('~/classes-master/Project1234/project_1/data/act_2017.csv')\n"
   ]
  },
  {
   "cell_type": "markdown",
   "metadata": {},
   "source": [
    "#### 2. Display Data\n",
    "\n",
    "Print the first 10 rows of each dataframe to your jupyter notebook"
   ]
  },
  {
   "cell_type": "code",
   "execution_count": 3,
   "metadata": {},
   "outputs": [
    {
     "data": {
      "text/html": [
       "<div>\n",
       "<style scoped>\n",
       "    .dataframe tbody tr th:only-of-type {\n",
       "        vertical-align: middle;\n",
       "    }\n",
       "\n",
       "    .dataframe tbody tr th {\n",
       "        vertical-align: top;\n",
       "    }\n",
       "\n",
       "    .dataframe thead th {\n",
       "        text-align: right;\n",
       "    }\n",
       "</style>\n",
       "<table border=\"1\" class=\"dataframe\">\n",
       "  <thead>\n",
       "    <tr style=\"text-align: right;\">\n",
       "      <th></th>\n",
       "      <th>State</th>\n",
       "      <th>Participation</th>\n",
       "      <th>English</th>\n",
       "      <th>Math</th>\n",
       "      <th>Reading</th>\n",
       "      <th>Science</th>\n",
       "      <th>Composite</th>\n",
       "    </tr>\n",
       "  </thead>\n",
       "  <tbody>\n",
       "    <tr>\n",
       "      <th>0</th>\n",
       "      <td>National</td>\n",
       "      <td>60%</td>\n",
       "      <td>20.3</td>\n",
       "      <td>20.7</td>\n",
       "      <td>21.4</td>\n",
       "      <td>21.0</td>\n",
       "      <td>21.0</td>\n",
       "    </tr>\n",
       "    <tr>\n",
       "      <th>1</th>\n",
       "      <td>Alabama</td>\n",
       "      <td>100%</td>\n",
       "      <td>18.9</td>\n",
       "      <td>18.4</td>\n",
       "      <td>19.7</td>\n",
       "      <td>19.4</td>\n",
       "      <td>19.2</td>\n",
       "    </tr>\n",
       "    <tr>\n",
       "      <th>2</th>\n",
       "      <td>Alaska</td>\n",
       "      <td>65%</td>\n",
       "      <td>18.7</td>\n",
       "      <td>19.8</td>\n",
       "      <td>20.4</td>\n",
       "      <td>19.9</td>\n",
       "      <td>19.8</td>\n",
       "    </tr>\n",
       "    <tr>\n",
       "      <th>3</th>\n",
       "      <td>Arizona</td>\n",
       "      <td>62%</td>\n",
       "      <td>18.6</td>\n",
       "      <td>19.8</td>\n",
       "      <td>20.1</td>\n",
       "      <td>19.8</td>\n",
       "      <td>19.7</td>\n",
       "    </tr>\n",
       "    <tr>\n",
       "      <th>4</th>\n",
       "      <td>Arkansas</td>\n",
       "      <td>100%</td>\n",
       "      <td>18.9</td>\n",
       "      <td>19.0</td>\n",
       "      <td>19.7</td>\n",
       "      <td>19.5</td>\n",
       "      <td>19.4</td>\n",
       "    </tr>\n",
       "    <tr>\n",
       "      <th>5</th>\n",
       "      <td>California</td>\n",
       "      <td>31%</td>\n",
       "      <td>22.5</td>\n",
       "      <td>22.7</td>\n",
       "      <td>23.1</td>\n",
       "      <td>22.2</td>\n",
       "      <td>22.8</td>\n",
       "    </tr>\n",
       "    <tr>\n",
       "      <th>6</th>\n",
       "      <td>Colorado</td>\n",
       "      <td>100%</td>\n",
       "      <td>20.1</td>\n",
       "      <td>20.3</td>\n",
       "      <td>21.2</td>\n",
       "      <td>20.9</td>\n",
       "      <td>20.8</td>\n",
       "    </tr>\n",
       "    <tr>\n",
       "      <th>7</th>\n",
       "      <td>Connecticut</td>\n",
       "      <td>31%</td>\n",
       "      <td>25.5</td>\n",
       "      <td>24.6</td>\n",
       "      <td>25.6</td>\n",
       "      <td>24.6</td>\n",
       "      <td>25.2</td>\n",
       "    </tr>\n",
       "    <tr>\n",
       "      <th>8</th>\n",
       "      <td>Delaware</td>\n",
       "      <td>18%</td>\n",
       "      <td>24.1</td>\n",
       "      <td>23.4</td>\n",
       "      <td>24.8</td>\n",
       "      <td>23.6</td>\n",
       "      <td>24.1</td>\n",
       "    </tr>\n",
       "    <tr>\n",
       "      <th>9</th>\n",
       "      <td>District of Columbia</td>\n",
       "      <td>32%</td>\n",
       "      <td>24.4</td>\n",
       "      <td>23.5</td>\n",
       "      <td>24.9</td>\n",
       "      <td>23.5</td>\n",
       "      <td>24.2</td>\n",
       "    </tr>\n",
       "  </tbody>\n",
       "</table>\n",
       "</div>"
      ],
      "text/plain": [
       "                  State Participation  English  Math  Reading  Science  \\\n",
       "0              National           60%     20.3  20.7     21.4     21.0   \n",
       "1               Alabama          100%     18.9  18.4     19.7     19.4   \n",
       "2                Alaska           65%     18.7  19.8     20.4     19.9   \n",
       "3               Arizona           62%     18.6  19.8     20.1     19.8   \n",
       "4              Arkansas          100%     18.9  19.0     19.7     19.5   \n",
       "5            California           31%     22.5  22.7     23.1     22.2   \n",
       "6              Colorado          100%     20.1  20.3     21.2     20.9   \n",
       "7           Connecticut           31%     25.5  24.6     25.6     24.6   \n",
       "8              Delaware           18%     24.1  23.4     24.8     23.6   \n",
       "9  District of Columbia           32%     24.4  23.5     24.9     23.5   \n",
       "\n",
       "  Composite  \n",
       "0      21.0  \n",
       "1      19.2  \n",
       "2      19.8  \n",
       "3      19.7  \n",
       "4      19.4  \n",
       "5      22.8  \n",
       "6      20.8  \n",
       "7      25.2  \n",
       "8      24.1  \n",
       "9      24.2  "
      ]
     },
     "metadata": {},
     "output_type": "display_data"
    },
    {
     "name": "stdout",
     "output_type": "stream",
     "text": [
      "52\n"
     ]
    },
    {
     "data": {
      "text/html": [
       "<div>\n",
       "<style scoped>\n",
       "    .dataframe tbody tr th:only-of-type {\n",
       "        vertical-align: middle;\n",
       "    }\n",
       "\n",
       "    .dataframe tbody tr th {\n",
       "        vertical-align: top;\n",
       "    }\n",
       "\n",
       "    .dataframe thead th {\n",
       "        text-align: right;\n",
       "    }\n",
       "</style>\n",
       "<table border=\"1\" class=\"dataframe\">\n",
       "  <thead>\n",
       "    <tr style=\"text-align: right;\">\n",
       "      <th></th>\n",
       "      <th>State</th>\n",
       "      <th>Participation</th>\n",
       "      <th>Evidence-Based Reading and Writing</th>\n",
       "      <th>Math</th>\n",
       "      <th>Total</th>\n",
       "    </tr>\n",
       "  </thead>\n",
       "  <tbody>\n",
       "    <tr>\n",
       "      <th>0</th>\n",
       "      <td>Alabama</td>\n",
       "      <td>5%</td>\n",
       "      <td>593</td>\n",
       "      <td>572</td>\n",
       "      <td>1165</td>\n",
       "    </tr>\n",
       "    <tr>\n",
       "      <th>1</th>\n",
       "      <td>Alaska</td>\n",
       "      <td>38%</td>\n",
       "      <td>547</td>\n",
       "      <td>533</td>\n",
       "      <td>1080</td>\n",
       "    </tr>\n",
       "    <tr>\n",
       "      <th>2</th>\n",
       "      <td>Arizona</td>\n",
       "      <td>30%</td>\n",
       "      <td>563</td>\n",
       "      <td>553</td>\n",
       "      <td>1116</td>\n",
       "    </tr>\n",
       "    <tr>\n",
       "      <th>3</th>\n",
       "      <td>Arkansas</td>\n",
       "      <td>3%</td>\n",
       "      <td>614</td>\n",
       "      <td>594</td>\n",
       "      <td>1208</td>\n",
       "    </tr>\n",
       "    <tr>\n",
       "      <th>4</th>\n",
       "      <td>California</td>\n",
       "      <td>53%</td>\n",
       "      <td>531</td>\n",
       "      <td>524</td>\n",
       "      <td>1055</td>\n",
       "    </tr>\n",
       "    <tr>\n",
       "      <th>5</th>\n",
       "      <td>Colorado</td>\n",
       "      <td>11%</td>\n",
       "      <td>606</td>\n",
       "      <td>595</td>\n",
       "      <td>1201</td>\n",
       "    </tr>\n",
       "    <tr>\n",
       "      <th>6</th>\n",
       "      <td>Connecticut</td>\n",
       "      <td>100%</td>\n",
       "      <td>530</td>\n",
       "      <td>512</td>\n",
       "      <td>1041</td>\n",
       "    </tr>\n",
       "    <tr>\n",
       "      <th>7</th>\n",
       "      <td>Delaware</td>\n",
       "      <td>100%</td>\n",
       "      <td>503</td>\n",
       "      <td>492</td>\n",
       "      <td>996</td>\n",
       "    </tr>\n",
       "    <tr>\n",
       "      <th>8</th>\n",
       "      <td>District of Columbia</td>\n",
       "      <td>100%</td>\n",
       "      <td>482</td>\n",
       "      <td>468</td>\n",
       "      <td>950</td>\n",
       "    </tr>\n",
       "    <tr>\n",
       "      <th>9</th>\n",
       "      <td>Florida</td>\n",
       "      <td>83%</td>\n",
       "      <td>520</td>\n",
       "      <td>497</td>\n",
       "      <td>1017</td>\n",
       "    </tr>\n",
       "  </tbody>\n",
       "</table>\n",
       "</div>"
      ],
      "text/plain": [
       "                  State Participation  Evidence-Based Reading and Writing  \\\n",
       "0               Alabama            5%                                 593   \n",
       "1                Alaska           38%                                 547   \n",
       "2               Arizona           30%                                 563   \n",
       "3              Arkansas            3%                                 614   \n",
       "4            California           53%                                 531   \n",
       "5              Colorado           11%                                 606   \n",
       "6           Connecticut          100%                                 530   \n",
       "7              Delaware          100%                                 503   \n",
       "8  District of Columbia          100%                                 482   \n",
       "9               Florida           83%                                 520   \n",
       "\n",
       "   Math  Total  \n",
       "0   572   1165  \n",
       "1   533   1080  \n",
       "2   553   1116  \n",
       "3   594   1208  \n",
       "4   524   1055  \n",
       "5   595   1201  \n",
       "6   512   1041  \n",
       "7   492    996  \n",
       "8   468    950  \n",
       "9   497   1017  "
      ]
     },
     "metadata": {},
     "output_type": "display_data"
    },
    {
     "name": "stdout",
     "output_type": "stream",
     "text": [
      "51\n"
     ]
    }
   ],
   "source": [
    "#Code:\n",
    "\n",
    "display(act2017.head(10))\n",
    "print(len(act2017))\n",
    "\n",
    "display(sat2017.head(10))\n",
    "print(len(sat2017))"
   ]
  },
  {
   "cell_type": "markdown",
   "metadata": {},
   "source": [
    "#### 3. Verbally Describe Data\n",
    "\n",
    "Take your time looking through the data and thoroughly describe the data in the markdown cell below. "
   ]
  },
  {
   "cell_type": "code",
   "execution_count": 4,
   "metadata": {},
   "outputs": [],
   "source": [
    "# ACT has length of 52, as it included a National Average\n",
    "# removed National Average before using describe() to look at the stats of the data\n",
    "\n",
    "act2017.drop(0, inplace=True)"
   ]
  },
  {
   "cell_type": "code",
   "execution_count": 5,
   "metadata": {},
   "outputs": [
    {
     "data": {
      "text/html": [
       "<div>\n",
       "<style scoped>\n",
       "    .dataframe tbody tr th:only-of-type {\n",
       "        vertical-align: middle;\n",
       "    }\n",
       "\n",
       "    .dataframe tbody tr th {\n",
       "        vertical-align: top;\n",
       "    }\n",
       "\n",
       "    .dataframe thead th {\n",
       "        text-align: right;\n",
       "    }\n",
       "</style>\n",
       "<table border=\"1\" class=\"dataframe\">\n",
       "  <thead>\n",
       "    <tr style=\"text-align: right;\">\n",
       "      <th></th>\n",
       "      <th>English</th>\n",
       "      <th>Math</th>\n",
       "      <th>Reading</th>\n",
       "      <th>Science</th>\n",
       "    </tr>\n",
       "  </thead>\n",
       "  <tbody>\n",
       "    <tr>\n",
       "      <th>count</th>\n",
       "      <td>51.000000</td>\n",
       "      <td>51.000000</td>\n",
       "      <td>51.000000</td>\n",
       "      <td>51.000000</td>\n",
       "    </tr>\n",
       "    <tr>\n",
       "      <th>mean</th>\n",
       "      <td>20.931373</td>\n",
       "      <td>21.182353</td>\n",
       "      <td>22.013725</td>\n",
       "      <td>21.041176</td>\n",
       "    </tr>\n",
       "    <tr>\n",
       "      <th>std</th>\n",
       "      <td>2.353677</td>\n",
       "      <td>1.981989</td>\n",
       "      <td>2.067271</td>\n",
       "      <td>3.182463</td>\n",
       "    </tr>\n",
       "    <tr>\n",
       "      <th>min</th>\n",
       "      <td>16.300000</td>\n",
       "      <td>18.000000</td>\n",
       "      <td>18.100000</td>\n",
       "      <td>2.300000</td>\n",
       "    </tr>\n",
       "    <tr>\n",
       "      <th>25%</th>\n",
       "      <td>19.000000</td>\n",
       "      <td>19.400000</td>\n",
       "      <td>20.450000</td>\n",
       "      <td>19.900000</td>\n",
       "    </tr>\n",
       "    <tr>\n",
       "      <th>50%</th>\n",
       "      <td>20.700000</td>\n",
       "      <td>20.900000</td>\n",
       "      <td>21.800000</td>\n",
       "      <td>21.300000</td>\n",
       "    </tr>\n",
       "    <tr>\n",
       "      <th>75%</th>\n",
       "      <td>23.300000</td>\n",
       "      <td>23.100000</td>\n",
       "      <td>24.150000</td>\n",
       "      <td>22.750000</td>\n",
       "    </tr>\n",
       "    <tr>\n",
       "      <th>max</th>\n",
       "      <td>25.500000</td>\n",
       "      <td>25.300000</td>\n",
       "      <td>26.000000</td>\n",
       "      <td>24.900000</td>\n",
       "    </tr>\n",
       "  </tbody>\n",
       "</table>\n",
       "</div>"
      ],
      "text/plain": [
       "         English       Math    Reading    Science\n",
       "count  51.000000  51.000000  51.000000  51.000000\n",
       "mean   20.931373  21.182353  22.013725  21.041176\n",
       "std     2.353677   1.981989   2.067271   3.182463\n",
       "min    16.300000  18.000000  18.100000   2.300000\n",
       "25%    19.000000  19.400000  20.450000  19.900000\n",
       "50%    20.700000  20.900000  21.800000  21.300000\n",
       "75%    23.300000  23.100000  24.150000  22.750000\n",
       "max    25.500000  25.300000  26.000000  24.900000"
      ]
     },
     "metadata": {},
     "output_type": "display_data"
    }
   ],
   "source": [
    "## to look at some of the summary stats\n",
    "display(act2017.describe())"
   ]
  },
  {
   "cell_type": "code",
   "execution_count": 6,
   "metadata": {},
   "outputs": [
    {
     "data": {
      "text/plain": [
       "array([[<matplotlib.axes._subplots.AxesSubplot object at 0x000001B5A78BB438>,\n",
       "        <matplotlib.axes._subplots.AxesSubplot object at 0x000001B5B43DB7F0>],\n",
       "       [<matplotlib.axes._subplots.AxesSubplot object at 0x000001B5B4414D30>,\n",
       "        <matplotlib.axes._subplots.AxesSubplot object at 0x000001B5B4450320>]],\n",
       "      dtype=object)"
      ]
     },
     "execution_count": 6,
     "metadata": {},
     "output_type": "execute_result"
    },
    {
     "data": {
      "image/png": "[encoded data removed]",
      "text/plain": [
       "<Figure size 1440x720 with 4 Axes>"
      ]
     },
     "metadata": {
      "needs_background": "light"
     },
     "output_type": "display_data"
    }
   ],
   "source": [
    "# to look at the shape of distribution\n",
    "act2017.hist(figsize=(20,10))\n",
    "# Not looking Normal"
   ]
  },
  {
   "cell_type": "code",
   "execution_count": 7,
   "metadata": {},
   "outputs": [
    {
     "data": {
      "text/plain": [
       "<matplotlib.axes._subplots.AxesSubplot at 0x1b5b49ff278>"
      ]
     },
     "execution_count": 7,
     "metadata": {},
     "output_type": "execute_result"
    },
    {
     "data": {
      "image/png": "[encoded data removed]",
      "text/plain": [
       "<Figure size 432x288 with 1 Axes>"
      ]
     },
     "metadata": {
      "needs_background": "light"
     },
     "output_type": "display_data"
    }
   ],
   "source": [
    "# to look at the spread of distribution\n",
    "act2017.boxplot()\n",
    "# big outlier of min 2.30 in Sci"
   ]
  },
  {
   "cell_type": "code",
   "execution_count": 8,
   "metadata": {},
   "outputs": [
    {
     "data": {
      "text/html": [
       "<div>\n",
       "<style scoped>\n",
       "    .dataframe tbody tr th:only-of-type {\n",
       "        vertical-align: middle;\n",
       "    }\n",
       "\n",
       "    .dataframe tbody tr th {\n",
       "        vertical-align: top;\n",
       "    }\n",
       "\n",
       "    .dataframe thead th {\n",
       "        text-align: right;\n",
       "    }\n",
       "</style>\n",
       "<table border=\"1\" class=\"dataframe\">\n",
       "  <thead>\n",
       "    <tr style=\"text-align: right;\">\n",
       "      <th></th>\n",
       "      <th>Evidence-Based Reading and Writing</th>\n",
       "      <th>Math</th>\n",
       "      <th>Total</th>\n",
       "    </tr>\n",
       "  </thead>\n",
       "  <tbody>\n",
       "    <tr>\n",
       "      <th>count</th>\n",
       "      <td>51.000000</td>\n",
       "      <td>51.000000</td>\n",
       "      <td>51.000000</td>\n",
       "    </tr>\n",
       "    <tr>\n",
       "      <th>mean</th>\n",
       "      <td>569.117647</td>\n",
       "      <td>547.627451</td>\n",
       "      <td>1126.098039</td>\n",
       "    </tr>\n",
       "    <tr>\n",
       "      <th>std</th>\n",
       "      <td>45.666901</td>\n",
       "      <td>84.909119</td>\n",
       "      <td>92.494812</td>\n",
       "    </tr>\n",
       "    <tr>\n",
       "      <th>min</th>\n",
       "      <td>482.000000</td>\n",
       "      <td>52.000000</td>\n",
       "      <td>950.000000</td>\n",
       "    </tr>\n",
       "    <tr>\n",
       "      <th>25%</th>\n",
       "      <td>533.500000</td>\n",
       "      <td>522.000000</td>\n",
       "      <td>1055.500000</td>\n",
       "    </tr>\n",
       "    <tr>\n",
       "      <th>50%</th>\n",
       "      <td>559.000000</td>\n",
       "      <td>548.000000</td>\n",
       "      <td>1107.000000</td>\n",
       "    </tr>\n",
       "    <tr>\n",
       "      <th>75%</th>\n",
       "      <td>613.000000</td>\n",
       "      <td>599.000000</td>\n",
       "      <td>1212.000000</td>\n",
       "    </tr>\n",
       "    <tr>\n",
       "      <th>max</th>\n",
       "      <td>644.000000</td>\n",
       "      <td>651.000000</td>\n",
       "      <td>1295.000000</td>\n",
       "    </tr>\n",
       "  </tbody>\n",
       "</table>\n",
       "</div>"
      ],
      "text/plain": [
       "       Evidence-Based Reading and Writing        Math        Total\n",
       "count                           51.000000   51.000000    51.000000\n",
       "mean                           569.117647  547.627451  1126.098039\n",
       "std                             45.666901   84.909119    92.494812\n",
       "min                            482.000000   52.000000   950.000000\n",
       "25%                            533.500000  522.000000  1055.500000\n",
       "50%                            559.000000  548.000000  1107.000000\n",
       "75%                            613.000000  599.000000  1212.000000\n",
       "max                            644.000000  651.000000  1295.000000"
      ]
     },
     "metadata": {},
     "output_type": "display_data"
    }
   ],
   "source": [
    "display(sat2017.describe())"
   ]
  },
  {
   "cell_type": "code",
   "execution_count": 9,
   "metadata": {},
   "outputs": [
    {
     "data": {
      "text/plain": [
       "array([[<matplotlib.axes._subplots.AxesSubplot object at 0x000001B5B44C7F28>,\n",
       "        <matplotlib.axes._subplots.AxesSubplot object at 0x000001B5B45C6668>],\n",
       "       [<matplotlib.axes._subplots.AxesSubplot object at 0x000001B5B45F8A90>,\n",
       "        <matplotlib.axes._subplots.AxesSubplot object at 0x000001B5B4638080>]],\n",
       "      dtype=object)"
      ]
     },
     "execution_count": 9,
     "metadata": {},
     "output_type": "execute_result"
    },
    {
     "data": {
      "image/png": "[encoded data removed]",
      "text/plain": [
       "<Figure size 1440x720 with 4 Axes>"
      ]
     },
     "metadata": {
      "needs_background": "light"
     },
     "output_type": "display_data"
    }
   ],
   "source": [
    "# Not looking Normal\n",
    "sat2017.hist(figsize=(20,10)) "
   ]
  },
  {
   "cell_type": "code",
   "execution_count": 10,
   "metadata": {},
   "outputs": [
    {
     "data": {
      "text/plain": [
       "<matplotlib.axes._subplots.AxesSubplot at 0x1b5b469c4a8>"
      ]
     },
     "execution_count": 10,
     "metadata": {},
     "output_type": "execute_result"
    },
    {
     "data": {
      "image/png": "[encoded data removed]",
      "text/plain": [
       "<Figure size 432x288 with 1 Axes>"
      ]
     },
     "metadata": {
      "needs_background": "light"
     },
     "output_type": "display_data"
    }
   ],
   "source": [
    "sat2017.boxplot()\n",
    "# Not looking Normal, big outlier 52"
   ]
  },
  {
   "cell_type": "markdown",
   "metadata": {},
   "source": [
    "Answer:The results for all segments does not look normal distributed. For ACT 2017, there is a big outlier for 'Science'. For SAT there is a big outlier for 'Math'. "
   ]
  },
  {
   "cell_type": "markdown",
   "metadata": {},
   "source": [
    "#### 4a. Does the data look complete? "
   ]
  },
  {
   "cell_type": "markdown",
   "metadata": {},
   "source": [
    "Answer:Not exactly. I am supposed to come up with recommendation to increase participation rates of the SAT of *a particular state of my choice.\n",
    "\n",
    "What will drive my choice to recommend to the board would be of value would be based on: (1) how i came up with my choice - which can be driven by participation rates as well as population data (both will drive the no. of test takers and boost the P&L of the college board and prestige of the test in the state.) (2) various other data points from this exercise. \n",
    "\n",
    "To be more comprehensive, will need a population data of graduating high school students by each state would be good as well."
   ]
  },
  {
   "cell_type": "markdown",
   "metadata": {},
   "source": [
    "#### 4b. Are there any obvious issues with the observations?\n",
    "\n",
    "**What is the minimum *possible* value for each test/subtest? What is the maximum *possible* value?**\n",
    "\n",
    "Consider comparing any questionable values to the sources of your data:\n",
    "- [SAT](https://blog.collegevine.com/here-are-the-average-sat-scores-by-state/)\n",
    "- [ACT](https://blog.prepscholar.com/act-scores-by-state-averages-highs-and-lows)"
   ]
  },
  {
   "cell_type": "markdown",
   "metadata": {},
   "source": [
    "Answer: For SAT, each area is (low) 200 to (high) 800. For ACT, scaled scores from 1-36 for each of the four required sections (English, math, reading, and science) are averaged together to create a composite score indicating your overall performance. Your composite score is rounded to the nearest whole number, with fractions less than one-half being rounded down and fractions equal or more than one-half rounded up."
   ]
  },
  {
   "cell_type": "markdown",
   "metadata": {},
   "source": [
    "#### 4c. Fix any errors you identified\n",
    "\n",
    "**The data is available** so there's no need to guess or calculate anything. If you didn't find any errors, continue to the next step."
   ]
  },
  {
   "cell_type": "code",
   "execution_count": 11,
   "metadata": {},
   "outputs": [
    {
     "name": "stdout",
     "output_type": "stream",
     "text": [
      "       State Participation  English  Math  Reading  Science Composite\n",
      "21  Maryland           28%     23.3  23.1     24.2      2.3      23.6\n",
      "       State Participation  Evidence-Based Reading and Writing  Math  Total\n",
      "20  Maryland           69%                                 536    52   1060\n"
     ]
    }
   ],
   "source": [
    "#code\n",
    "\n",
    "# to locate the row of the outlier, i used the following code\n",
    "\n",
    "print(act2017[act2017['Science'] == 2.3])\n",
    "\n",
    "# used the above link and found Maryland should be 23.2 for Science and corrected the cell\n",
    "\n",
    "act2017.loc[[21],['Science']] = 23.2\n",
    "\n",
    "# to locate the row of the outlier, i used the following code\n",
    "print(sat2017[sat2017['Math'] == 52])\n",
    "\n",
    "# used the above link and found Maryland should be 524 for Math\n",
    "sat2017.loc[[20],['Math']] = 524"
   ]
  },
  {
   "cell_type": "markdown",
   "metadata": {},
   "source": [
    "#### 5. What are your data types? \n",
    "Display the data types of each feature. "
   ]
  },
  {
   "cell_type": "code",
   "execution_count": 12,
   "metadata": {},
   "outputs": [
    {
     "name": "stdout",
     "output_type": "stream",
     "text": [
      "<class 'pandas.core.frame.DataFrame'>\n",
      "Int64Index: 51 entries, 1 to 51\n",
      "Data columns (total 7 columns):\n",
      "State            51 non-null object\n",
      "Participation    51 non-null object\n",
      "English          51 non-null float64\n",
      "Math             51 non-null float64\n",
      "Reading          51 non-null float64\n",
      "Science          51 non-null float64\n",
      "Composite        51 non-null object\n",
      "dtypes: float64(4), object(3)\n",
      "memory usage: 5.7+ KB\n"
     ]
    }
   ],
   "source": [
    "#code for act2017\n",
    "act2017.info()"
   ]
  },
  {
   "cell_type": "code",
   "execution_count": 13,
   "metadata": {},
   "outputs": [
    {
     "name": "stdout",
     "output_type": "stream",
     "text": [
      "<class 'pandas.core.frame.DataFrame'>\n",
      "RangeIndex: 51 entries, 0 to 50\n",
      "Data columns (total 5 columns):\n",
      "State                                 51 non-null object\n",
      "Participation                         51 non-null object\n",
      "Evidence-Based Reading and Writing    51 non-null int64\n",
      "Math                                  51 non-null int64\n",
      "Total                                 51 non-null int64\n",
      "dtypes: int64(3), object(2)\n",
      "memory usage: 2.1+ KB\n"
     ]
    }
   ],
   "source": [
    "#code for sat2017\n",
    "sat2017.info()"
   ]
  },
  {
   "cell_type": "markdown",
   "metadata": {},
   "source": [
    "What did you learn?\n",
    "- Do any of them seem odd?  \n",
    "- Which ones are not as they should be?  "
   ]
  },
  {
   "cell_type": "markdown",
   "metadata": {},
   "source": [
    "Answer:Participation for both datasets should be int64 instead of object (attributable to the presence of %). for ACT, the composite score should also be float64."
   ]
  },
  {
   "cell_type": "markdown",
   "metadata": {},
   "source": [
    "#### 6. Fix Incorrect Data Types\n",
    "Based on what you discovered above, use appropriate methods to re-type incorrectly typed data.\n",
    "- Define a function that will allow you to convert participation rates to an appropriate numeric type. Use `map` or `apply` to change these columns in each dataframe."
   ]
  },
  {
   "cell_type": "code",
   "execution_count": 14,
   "metadata": {},
   "outputs": [],
   "source": [
    "#code\n",
    "fremovepct = lambda x: float(x.replace('%',''))/100"
   ]
  },
  {
   "cell_type": "code",
   "execution_count": 15,
   "metadata": {},
   "outputs": [
    {
     "data": {
      "text/plain": [
       "State             object\n",
       "Participation    float64\n",
       "English          float64\n",
       "Math             float64\n",
       "Reading          float64\n",
       "Science          float64\n",
       "Composite         object\n",
       "dtype: object"
      ]
     },
     "execution_count": 15,
     "metadata": {},
     "output_type": "execute_result"
    }
   ],
   "source": [
    "act2017['Participation'] = act2017['Participation'].apply(fremovepct)\n",
    "\n",
    "act2017.dtypes"
   ]
  },
  {
   "cell_type": "code",
   "execution_count": 16,
   "metadata": {},
   "outputs": [
    {
     "data": {
      "text/plain": [
       "State                                  object\n",
       "Participation                         float64\n",
       "Evidence-Based Reading and Writing      int64\n",
       "Math                                    int64\n",
       "Total                                   int64\n",
       "dtype: object"
      ]
     },
     "execution_count": 16,
     "metadata": {},
     "output_type": "execute_result"
    }
   ],
   "source": [
    "sat2017['Participation'] = sat2017['Participation'].apply(fremovepct)\n",
    "\n",
    "sat2017.dtypes"
   ]
  },
  {
   "cell_type": "code",
   "execution_count": 17,
   "metadata": {},
   "outputs": [
    {
     "data": {
      "text/plain": [
       "29    17.8\n",
       "25    18.6\n",
       "41    18.7\n",
       "12    19.0\n",
       "34    19.1\n",
       "Name: Composite, dtype: object"
      ]
     },
     "execution_count": 17,
     "metadata": {},
     "output_type": "execute_result"
    }
   ],
   "source": [
    "#trying investigate the problem of Composite\n",
    "#check\n",
    "act2017['Composite'].sort_values(ascending=True)[:5]\n"
   ]
  },
  {
   "cell_type": "code",
   "execution_count": 18,
   "metadata": {},
   "outputs": [
    {
     "data": {
      "text/plain": [
       "9     24.2\n",
       "20    24.3\n",
       "7     25.2\n",
       "22    25.4\n",
       "30    25.5\n",
       "Name: Composite, dtype: object"
      ]
     },
     "execution_count": 18,
     "metadata": {},
     "output_type": "execute_result"
    }
   ],
   "source": [
    "#trying investigate the problem of Composite\n",
    "#check\n",
    "act2017['Composite'].sort_values(ascending=True)[-5:]"
   ]
  },
  {
   "cell_type": "code",
   "execution_count": 19,
   "metadata": {},
   "outputs": [],
   "source": [
    "#trying investigate the problem of Composite\n",
    "#check\n",
    "#act2017['Composite'] = act2017['Composite'].apply(lambda x: float(x))\n",
    "#returns error: could not convert string to float: '20.2x'"
   ]
  },
  {
   "cell_type": "markdown",
   "metadata": {},
   "source": [
    "- Fix any individual values preventing other columns from being the appropriate type."
   ]
  },
  {
   "cell_type": "code",
   "execution_count": 20,
   "metadata": {},
   "outputs": [
    {
     "name": "stdout",
     "output_type": "stream",
     "text": [
      "      State  Participation  English  Math  Reading  Science Composite\n",
      "51  Wyoming            1.0     19.4  19.8     20.8     20.6     20.2x\n"
     ]
    }
   ],
   "source": [
    "#code to locate 20.2x\n",
    "print(act2017[act2017['Composite'] == '20.2x'])\n",
    "\n",
    "#fix the 20.2x to 20.2\n",
    "act2017.loc[[51],['Composite']] = 20.2"
   ]
  },
  {
   "cell_type": "markdown",
   "metadata": {},
   "source": [
    "- Finish your data modifications by making sure the columns are now typed appropriately."
   ]
  },
  {
   "cell_type": "code",
   "execution_count": 21,
   "metadata": {},
   "outputs": [],
   "source": [
    "#code to re-run conversion to float for composite\n",
    "act2017['Composite'] = act2017['Composite'].apply(lambda x: float(x))"
   ]
  },
  {
   "cell_type": "markdown",
   "metadata": {},
   "source": [
    "- Display the data types again to confirm they are correct."
   ]
  },
  {
   "cell_type": "code",
   "execution_count": 22,
   "metadata": {},
   "outputs": [
    {
     "data": {
      "text/plain": [
       "State             object\n",
       "Participation    float64\n",
       "English          float64\n",
       "Math             float64\n",
       "Reading          float64\n",
       "Science          float64\n",
       "Composite        float64\n",
       "dtype: object"
      ]
     },
     "execution_count": 22,
     "metadata": {},
     "output_type": "execute_result"
    }
   ],
   "source": [
    "#Code:\n",
    "act2017.dtypes"
   ]
  },
  {
   "cell_type": "markdown",
   "metadata": {},
   "source": [
    "#### 7. Rename Columns\n",
    "Change the names of the columns to more expressive names so that you can tell the difference the SAT columns and the ACT columns. Your solution should map all column names being changed at once (no repeated singular name-changes). **We will be combining these data with some of the data from 2018, and so you should name columns in an appropriate way**.\n",
    "\n",
    "**Guidelines**:\n",
    "- Column names should be all lowercase (you will thank yourself when you start pushing data to SQL later in the course)\n",
    "- Column names should not contain spaces (underscores will suffice--this allows for using the `df.column_name` method to access columns in addition to `df['column_name']`.\n",
    "- Column names should be unique and informative (the only feature that we actually share between dataframes is the state)."
   ]
  },
  {
   "cell_type": "code",
   "execution_count": 23,
   "metadata": {},
   "outputs": [
    {
     "name": "stdout",
     "output_type": "stream",
     "text": [
      "<class 'pandas.core.frame.DataFrame'>\n",
      "Int64Index: 51 entries, 1 to 51\n",
      "Data columns (total 7 columns):\n",
      "state                     51 non-null object\n",
      "act_participation_2017    51 non-null float64\n",
      "act_english_2017          51 non-null float64\n",
      "act_math_2017             51 non-null float64\n",
      "act_reading_2017          51 non-null float64\n",
      "act_science_2017          51 non-null float64\n",
      "act_total_2017            51 non-null float64\n",
      "dtypes: float64(6), object(1)\n",
      "memory usage: 5.7+ KB\n"
     ]
    }
   ],
   "source": [
    "#code\n",
    "\n",
    "act2017.columns = ['state', 'act_participation_2017', 'act_english_2017', 'act_math_2017', 'act_reading_2017', 'act_science_2017', 'act_total_2017']\n",
    "sat2017.columns = ['state', 'sat_participation_2017', 'sat_readwrite_2017', 'sat_math_2017', 'sat_total_2017']\n",
    "\n",
    "act2017.info()"
   ]
  },
  {
   "cell_type": "markdown",
   "metadata": {},
   "source": [
    "#### 8. Create a data dictionary\n",
    "\n",
    "Now that we've fixed our data, and given it appropriate names, let's create a [data dictionary](http://library.ucmerced.edu/node/10249). \n",
    "\n",
    "A data dictionary provides a quick overview of features/variables/columns, alongside data types and descriptions. The more descriptive you can be, the more useful this document is.\n",
    "\n",
    "Data Dictionary Entry: \n",
    "\n",
    "|Feature|Type|Dataset|Description|\n",
    "|---|---|---|---|\n",
    "|**county_pop**|*integer*|2010 census|The population of the county (units in thousands, where 2.5 represents 2500 people).| \n",
    "|**per_poverty**|*float*|2010 census|The percent of the county over the age of 18 living below the 200% of official US poverty rate (units percent to two decimal places 98.10 means 98.1%)|\n",
    "\n",
    "[Here's a quick link to a short guide for formatting markdown in Jupyter notebooks](https://jupyter-notebook.readthedocs.io/en/stable/examples/Notebook/Working%20With%20Markdown%20Cells.html).\n",
    "\n",
    "Provided is the skeleton for formatting a markdown table, with columns headers that will help you create a data dictionary to quickly summarize your data, as well as some examples. **This would be a great thing to copy and paste into your custom README for this project.**"
   ]
  },
  {
   "cell_type": "markdown",
   "metadata": {},
   "source": [
    "|Feature|Type|Dataset|Description|\n",
    "|---|---|---|---|\n",
    "|state|object|-|Name of the state in US| \n",
    "|act_participation_2017|float64|ACT 2017|Participation rate of graduating high sch students of the state (0.00 - 1.00)|\n",
    "|act_english_2017|float64|ACT 2017|English score (1-36)|                \n",
    "|act_math_2017|float64|ACT 2017|Math score (1-36)|\n",
    "|act_reading_2017|float64|ACT 2017|Reading score (1-36)|\n",
    "|act_science_2017|float64|ACT 2017|Science score (1-36)|\n",
    "|act_total_2017 |float64|ACT 2017|Composite score (1-36)|\n",
    "|sat_participation_2017 |float64|SAT 2017|Participation rate of graduating high sch students of the state (0.00 - 1.00)|\n",
    "|sat_readwrite_2017 |int64|SAT 2017|Reading&Writing score (200-800)|\n",
    "|sat_math_2017 |int64|SAT 2017|Math score (200-800))|\n",
    "|sat_total_2017  |int64|SAT 2017|Total score (400-1600))|\n",
    "|act_participation_2018|float64|ACT 2018|Participation rate of graduating high sch students of the state (0.00 - 1.00)|\n",
    "|act_english_2018|float64|ACT 2018|English score (1-36)|                \n",
    "|act_math_2018|float64|ACT 2018|Math score (1-36)|\n",
    "|act_reading_2018|float64|ACT 2018|Reading score (1-36)|\n",
    "|act_science_2018|float64|ACT 2018|Science score (1-36)|\n",
    "|act_total_2018 |float64|ACT 2018|Composite score (1-36)|\n",
    "|sat_participation_2018 |float64|SAT 2018|Participation rate of graduating high sch students of the state (0.00 - 1.00)|\n",
    "|sat_readwrite_2018 |int64|SAT 2018|Reading&Writing score (200-800)|\n",
    "|sat_math_2018 |int64|SAT 2018|Math score (200-800))|\n",
    "|sat_total_2018  |int64|SAT 2018|Total score (400-1600))|\n",
    "\n",
    "\n"
   ]
  },
  {
   "cell_type": "markdown",
   "metadata": {},
   "source": [
    "#### 9. Drop unnecessary rows\n",
    "\n",
    "One of our dataframes contains an extra row. Identify and remove this from the dataframe."
   ]
  },
  {
   "cell_type": "code",
   "execution_count": 24,
   "metadata": {},
   "outputs": [],
   "source": [
    "#code\n",
    "# removed earlier on"
   ]
  },
  {
   "cell_type": "markdown",
   "metadata": {},
   "source": [
    "#### 10. Merge Dataframes\n",
    "\n",
    "Join the 2017 ACT and SAT dataframes using the state in each dataframe as the key. Assign this to a new variable."
   ]
  },
  {
   "cell_type": "code",
   "execution_count": 25,
   "metadata": {},
   "outputs": [
    {
     "name": "stdout",
     "output_type": "stream",
     "text": [
      "<class 'pandas.core.frame.DataFrame'>\n",
      "Int64Index: 51 entries, 0 to 50\n",
      "Data columns (total 11 columns):\n",
      "state                     51 non-null object\n",
      "act_participation_2017    51 non-null float64\n",
      "act_english_2017          51 non-null float64\n",
      "act_math_2017             51 non-null float64\n",
      "act_reading_2017          51 non-null float64\n",
      "act_science_2017          51 non-null float64\n",
      "act_total_2017            51 non-null float64\n",
      "sat_participation_2017    51 non-null float64\n",
      "sat_readwrite_2017        51 non-null int64\n",
      "sat_math_2017             51 non-null int64\n",
      "sat_total_2017            51 non-null int64\n",
      "dtypes: float64(7), int64(3), object(1)\n",
      "memory usage: 4.8+ KB\n"
     ]
    }
   ],
   "source": [
    "#Code:\n",
    "\n",
    "combined2017 = pd.merge(act2017,sat2017,how='outer', on='state')\n",
    "\n",
    "combined2017.info()"
   ]
  },
  {
   "cell_type": "markdown",
   "metadata": {},
   "source": [
    "#### 11. Save your cleaned, merged dataframe\n",
    "\n",
    "Use a relative path to save out your data as `combined_2017.csv`."
   ]
  },
  {
   "cell_type": "code",
   "execution_count": 26,
   "metadata": {},
   "outputs": [],
   "source": [
    "#code\n",
    "combined2017.to_csv('combined_2017.csv')"
   ]
  },
  {
   "cell_type": "markdown",
   "metadata": {},
   "source": [
    "## 2018 Data Import and Cleaning"
   ]
  },
  {
   "cell_type": "markdown",
   "metadata": {},
   "source": [
    "Links to the 2018 ACT and SAT data are provided in the README. These data live in PDFs, and so you'll get to enjoy practicing some *manual* data collection. Save these data as a CSV in your `data` directory, and import, explore, and clean these data in the same way you did above. **Make sure you comment on your steps so it is clear *why* you are doing each process**."
   ]
  },
  {
   "cell_type": "code",
   "execution_count": 27,
   "metadata": {},
   "outputs": [],
   "source": [
    "sat2018 = pd.read_csv('~/classes-master/Project1234/project_1/data/sat_2018.csv')\n",
    "act2018 = pd.read_csv('~/classes-master/Project1234/project_1/data/act_2018_updated.csv')\n"
   ]
  },
  {
   "cell_type": "code",
   "execution_count": 28,
   "metadata": {},
   "outputs": [
    {
     "name": "stdout",
     "output_type": "stream",
     "text": [
      "<class 'pandas.core.frame.DataFrame'>\n",
      "RangeIndex: 51 entries, 0 to 50\n",
      "Data columns (total 5 columns):\n",
      "State                                 51 non-null object\n",
      "Participation                         51 non-null object\n",
      "Evidence-Based Reading and Writing    51 non-null int64\n",
      "Math                                  51 non-null int64\n",
      "Total                                 51 non-null int64\n",
      "dtypes: int64(3), object(2)\n",
      "memory usage: 2.1+ KB\n"
     ]
    }
   ],
   "source": [
    "# look at the info of sat2018\n",
    "# same participation is object, need to fix\n",
    "\n",
    "sat2018.info()"
   ]
  },
  {
   "cell_type": "code",
   "execution_count": 29,
   "metadata": {},
   "outputs": [],
   "source": [
    "# covert participation into float\n",
    "sat2018['Participation'] = sat2018['Participation'].apply(fremovepct)"
   ]
  },
  {
   "cell_type": "code",
   "execution_count": 30,
   "metadata": {},
   "outputs": [
    {
     "data": {
      "text/plain": [
       "State                                  object\n",
       "Participation                         float64\n",
       "Evidence-Based Reading and Writing      int64\n",
       "Math                                    int64\n",
       "Total                                   int64\n",
       "dtype: object"
      ]
     },
     "execution_count": 30,
     "metadata": {},
     "output_type": "execute_result"
    }
   ],
   "source": [
    "sat2018.dtypes"
   ]
  },
  {
   "cell_type": "code",
   "execution_count": 31,
   "metadata": {},
   "outputs": [],
   "source": [
    "# changing the columns head\n",
    "sat2018.columns = ['state', 'sat_participation_2018', 'sat_readwrite_2018', 'sat_math_2018', 'sat_total_2018']"
   ]
  },
  {
   "cell_type": "code",
   "execution_count": 32,
   "metadata": {},
   "outputs": [
    {
     "name": "stdout",
     "output_type": "stream",
     "text": [
      "<class 'pandas.core.frame.DataFrame'>\n",
      "RangeIndex: 51 entries, 0 to 50\n",
      "Data columns (total 7 columns):\n",
      "State                            51 non-null object\n",
      "Percentage of Students Tested    51 non-null int64\n",
      "Average Composite Score          51 non-null float64\n",
      "Average English Score            51 non-null float64\n",
      "Average Math Score               51 non-null float64\n",
      "Average Reading Score            51 non-null float64\n",
      "Average Science Score            51 non-null float64\n",
      "dtypes: float64(5), int64(1), object(1)\n",
      "memory usage: 2.9+ KB\n"
     ]
    }
   ],
   "source": [
    "# look at the info of act2018\n",
    "# there is 52 entries instead of 51\n",
    "# need to fix participation\n",
    "# missing 4 columns\n",
    "# English, Math, Reading, Science\n",
    "\n",
    "act2018.info()"
   ]
  },
  {
   "cell_type": "code",
   "execution_count": 33,
   "metadata": {},
   "outputs": [],
   "source": [
    "#change header for easier manipulation\n",
    "act2018.columns = ['state', 'act_participation_2018', 'act_total_2018','act_english_2018','act_math_2018','act_reading_2018','act_science_2018']"
   ]
  },
  {
   "cell_type": "code",
   "execution_count": 34,
   "metadata": {},
   "outputs": [],
   "source": [
    "# drop duplicate entry in origial csv act_2018.csv but seems like act_2018_updated no duplicates\n",
    "act2018 = act2018.drop_duplicates(subset='state')"
   ]
  },
  {
   "cell_type": "code",
   "execution_count": 35,
   "metadata": {},
   "outputs": [],
   "source": [
    "# covert the the participation rate in origial csv act_2018.csv but seems like act_2018_updated is already int but still need to /100\n",
    "act2018['act_participation_2018'] = act2018['act_participation_2018'] / 100"
   ]
  },
  {
   "cell_type": "markdown",
   "metadata": {},
   "source": [
    "#### Combine your 2017 and 2018 data into a single dataframe\n",
    "Joining on state names should work, assuming you formatted all your state names identically. Make sure none of your columns (other than state) have identical names. Do yourself a favor and decide if you're encoding participation rates as floats or integers and standardize this across your datasets.\n",
    "\n",
    "Save the contents of this merged dataframe as `final.csv`.\n",
    "\n",
    "**Use this combined dataframe for the remainder of the project**."
   ]
  },
  {
   "cell_type": "code",
   "execution_count": 36,
   "metadata": {},
   "outputs": [
    {
     "name": "stdout",
     "output_type": "stream",
     "text": [
      "<class 'pandas.core.frame.DataFrame'>\n",
      "Int64Index: 51 entries, 0 to 50\n",
      "Data columns (total 11 columns):\n",
      "state                     51 non-null object\n",
      "act_participation_2018    51 non-null float64\n",
      "act_total_2018            51 non-null float64\n",
      "act_english_2018          51 non-null float64\n",
      "act_math_2018             51 non-null float64\n",
      "act_reading_2018          51 non-null float64\n",
      "act_science_2018          51 non-null float64\n",
      "sat_participation_2018    51 non-null float64\n",
      "sat_readwrite_2018        51 non-null int64\n",
      "sat_math_2018             51 non-null int64\n",
      "sat_total_2018            51 non-null int64\n",
      "dtypes: float64(7), int64(3), object(1)\n",
      "memory usage: 4.8+ KB\n"
     ]
    }
   ],
   "source": [
    "#forms a 2018 dataframe\n",
    "sat2018['state'] = sat2018['state'].str.lower()\n",
    "act2018['state'] = act2018['state'].str.lower()\n",
    "\n",
    "combined2018 = pd.merge(act2018,sat2018,how='outer', on='state')\n",
    "combined2018.info()"
   ]
  },
  {
   "cell_type": "code",
   "execution_count": 37,
   "metadata": {},
   "outputs": [
    {
     "name": "stdout",
     "output_type": "stream",
     "text": [
      "<class 'pandas.core.frame.DataFrame'>\n",
      "Int64Index: 51 entries, 0 to 50\n",
      "Data columns (total 21 columns):\n",
      "state                     51 non-null object\n",
      "act_participation_2017    51 non-null float64\n",
      "act_english_2017          51 non-null float64\n",
      "act_math_2017             51 non-null float64\n",
      "act_reading_2017          51 non-null float64\n",
      "act_science_2017          51 non-null float64\n",
      "act_total_2017            51 non-null float64\n",
      "sat_participation_2017    51 non-null float64\n",
      "sat_readwrite_2017        51 non-null int64\n",
      "sat_math_2017             51 non-null int64\n",
      "sat_total_2017            51 non-null int64\n",
      "act_participation_2018    51 non-null float64\n",
      "act_total_2018            51 non-null float64\n",
      "act_english_2018          51 non-null float64\n",
      "act_math_2018             51 non-null float64\n",
      "act_reading_2018          51 non-null float64\n",
      "act_science_2018          51 non-null float64\n",
      "sat_participation_2018    51 non-null float64\n",
      "sat_readwrite_2018        51 non-null int64\n",
      "sat_math_2018             51 non-null int64\n",
      "sat_total_2018            51 non-null int64\n",
      "dtypes: float64(14), int64(6), object(1)\n",
      "memory usage: 8.8+ KB\n"
     ]
    }
   ],
   "source": [
    "combined2017['state'] = combined2017['state'].str.lower()\n",
    "final = pd.merge(combined2017,combined2018,how='outer', on='state')\n",
    "final.to_csv('final.csv')\n",
    "final.info()"
   ]
  },
  {
   "cell_type": "markdown",
   "metadata": {},
   "source": [
    "## Exploratory Data Analysis\n",
    "\n",
    "\n",
    "### Summary Statistics\n",
    "Transpose the output of pandas `describe` method to create a quick overview of each numeric feature."
   ]
  },
  {
   "cell_type": "code",
   "execution_count": 38,
   "metadata": {},
   "outputs": [
    {
     "data": {
      "text/html": [
       "<div>\n",
       "<style scoped>\n",
       "    .dataframe tbody tr th:only-of-type {\n",
       "        vertical-align: middle;\n",
       "    }\n",
       "\n",
       "    .dataframe tbody tr th {\n",
       "        vertical-align: top;\n",
       "    }\n",
       "\n",
       "    .dataframe thead th {\n",
       "        text-align: right;\n",
       "    }\n",
       "</style>\n",
       "<table border=\"1\" class=\"dataframe\">\n",
       "  <thead>\n",
       "    <tr style=\"text-align: right;\">\n",
       "      <th></th>\n",
       "      <th>count</th>\n",
       "      <th>mean</th>\n",
       "      <th>std</th>\n",
       "      <th>min</th>\n",
       "      <th>25%</th>\n",
       "      <th>50%</th>\n",
       "      <th>75%</th>\n",
       "      <th>max</th>\n",
       "    </tr>\n",
       "  </thead>\n",
       "  <tbody>\n",
       "    <tr>\n",
       "      <th>act_participation_2017</th>\n",
       "      <td>51.0</td>\n",
       "      <td>0.652549</td>\n",
       "      <td>0.321408</td>\n",
       "      <td>0.08</td>\n",
       "      <td>0.310</td>\n",
       "      <td>0.69</td>\n",
       "      <td>1.000</td>\n",
       "      <td>1.0</td>\n",
       "    </tr>\n",
       "    <tr>\n",
       "      <th>act_english_2017</th>\n",
       "      <td>51.0</td>\n",
       "      <td>20.931373</td>\n",
       "      <td>2.353677</td>\n",
       "      <td>16.30</td>\n",
       "      <td>19.000</td>\n",
       "      <td>20.70</td>\n",
       "      <td>23.300</td>\n",
       "      <td>25.5</td>\n",
       "    </tr>\n",
       "    <tr>\n",
       "      <th>act_math_2017</th>\n",
       "      <td>51.0</td>\n",
       "      <td>21.182353</td>\n",
       "      <td>1.981989</td>\n",
       "      <td>18.00</td>\n",
       "      <td>19.400</td>\n",
       "      <td>20.90</td>\n",
       "      <td>23.100</td>\n",
       "      <td>25.3</td>\n",
       "    </tr>\n",
       "    <tr>\n",
       "      <th>act_reading_2017</th>\n",
       "      <td>51.0</td>\n",
       "      <td>22.013725</td>\n",
       "      <td>2.067271</td>\n",
       "      <td>18.10</td>\n",
       "      <td>20.450</td>\n",
       "      <td>21.80</td>\n",
       "      <td>24.150</td>\n",
       "      <td>26.0</td>\n",
       "    </tr>\n",
       "    <tr>\n",
       "      <th>act_science_2017</th>\n",
       "      <td>51.0</td>\n",
       "      <td>21.450980</td>\n",
       "      <td>1.739353</td>\n",
       "      <td>18.20</td>\n",
       "      <td>19.950</td>\n",
       "      <td>21.30</td>\n",
       "      <td>23.200</td>\n",
       "      <td>24.9</td>\n",
       "    </tr>\n",
       "    <tr>\n",
       "      <th>act_total_2017</th>\n",
       "      <td>51.0</td>\n",
       "      <td>21.519608</td>\n",
       "      <td>2.020695</td>\n",
       "      <td>17.80</td>\n",
       "      <td>19.800</td>\n",
       "      <td>21.40</td>\n",
       "      <td>23.600</td>\n",
       "      <td>25.5</td>\n",
       "    </tr>\n",
       "    <tr>\n",
       "      <th>sat_participation_2017</th>\n",
       "      <td>51.0</td>\n",
       "      <td>0.398039</td>\n",
       "      <td>0.352766</td>\n",
       "      <td>0.02</td>\n",
       "      <td>0.040</td>\n",
       "      <td>0.38</td>\n",
       "      <td>0.660</td>\n",
       "      <td>1.0</td>\n",
       "    </tr>\n",
       "    <tr>\n",
       "      <th>sat_readwrite_2017</th>\n",
       "      <td>51.0</td>\n",
       "      <td>569.117647</td>\n",
       "      <td>45.666901</td>\n",
       "      <td>482.00</td>\n",
       "      <td>533.500</td>\n",
       "      <td>559.00</td>\n",
       "      <td>613.000</td>\n",
       "      <td>644.0</td>\n",
       "    </tr>\n",
       "    <tr>\n",
       "      <th>sat_math_2017</th>\n",
       "      <td>51.0</td>\n",
       "      <td>556.882353</td>\n",
       "      <td>47.121395</td>\n",
       "      <td>468.00</td>\n",
       "      <td>523.500</td>\n",
       "      <td>548.00</td>\n",
       "      <td>599.000</td>\n",
       "      <td>651.0</td>\n",
       "    </tr>\n",
       "    <tr>\n",
       "      <th>sat_total_2017</th>\n",
       "      <td>51.0</td>\n",
       "      <td>1126.098039</td>\n",
       "      <td>92.494812</td>\n",
       "      <td>950.00</td>\n",
       "      <td>1055.500</td>\n",
       "      <td>1107.00</td>\n",
       "      <td>1212.000</td>\n",
       "      <td>1295.0</td>\n",
       "    </tr>\n",
       "    <tr>\n",
       "      <th>act_participation_2018</th>\n",
       "      <td>51.0</td>\n",
       "      <td>0.616471</td>\n",
       "      <td>0.340810</td>\n",
       "      <td>0.07</td>\n",
       "      <td>0.285</td>\n",
       "      <td>0.66</td>\n",
       "      <td>1.000</td>\n",
       "      <td>1.0</td>\n",
       "    </tr>\n",
       "    <tr>\n",
       "      <th>act_total_2018</th>\n",
       "      <td>51.0</td>\n",
       "      <td>21.486275</td>\n",
       "      <td>2.106278</td>\n",
       "      <td>17.70</td>\n",
       "      <td>19.950</td>\n",
       "      <td>21.30</td>\n",
       "      <td>23.550</td>\n",
       "      <td>25.6</td>\n",
       "    </tr>\n",
       "    <tr>\n",
       "      <th>act_english_2018</th>\n",
       "      <td>51.0</td>\n",
       "      <td>20.988235</td>\n",
       "      <td>2.446356</td>\n",
       "      <td>16.60</td>\n",
       "      <td>19.100</td>\n",
       "      <td>20.20</td>\n",
       "      <td>23.700</td>\n",
       "      <td>26.0</td>\n",
       "    </tr>\n",
       "    <tr>\n",
       "      <th>act_math_2018</th>\n",
       "      <td>51.0</td>\n",
       "      <td>21.125490</td>\n",
       "      <td>2.035765</td>\n",
       "      <td>17.80</td>\n",
       "      <td>19.400</td>\n",
       "      <td>20.70</td>\n",
       "      <td>23.150</td>\n",
       "      <td>25.2</td>\n",
       "    </tr>\n",
       "    <tr>\n",
       "      <th>act_reading_2018</th>\n",
       "      <td>51.0</td>\n",
       "      <td>22.015686</td>\n",
       "      <td>2.167245</td>\n",
       "      <td>18.00</td>\n",
       "      <td>20.450</td>\n",
       "      <td>21.60</td>\n",
       "      <td>24.100</td>\n",
       "      <td>26.1</td>\n",
       "    </tr>\n",
       "    <tr>\n",
       "      <th>act_science_2018</th>\n",
       "      <td>51.0</td>\n",
       "      <td>21.345098</td>\n",
       "      <td>1.870114</td>\n",
       "      <td>17.90</td>\n",
       "      <td>19.850</td>\n",
       "      <td>21.10</td>\n",
       "      <td>23.050</td>\n",
       "      <td>24.9</td>\n",
       "    </tr>\n",
       "    <tr>\n",
       "      <th>sat_participation_2018</th>\n",
       "      <td>51.0</td>\n",
       "      <td>0.457451</td>\n",
       "      <td>0.373143</td>\n",
       "      <td>0.02</td>\n",
       "      <td>0.045</td>\n",
       "      <td>0.52</td>\n",
       "      <td>0.775</td>\n",
       "      <td>1.0</td>\n",
       "    </tr>\n",
       "    <tr>\n",
       "      <th>sat_readwrite_2018</th>\n",
       "      <td>51.0</td>\n",
       "      <td>563.686275</td>\n",
       "      <td>47.502627</td>\n",
       "      <td>480.00</td>\n",
       "      <td>534.500</td>\n",
       "      <td>552.00</td>\n",
       "      <td>610.500</td>\n",
       "      <td>643.0</td>\n",
       "    </tr>\n",
       "    <tr>\n",
       "      <th>sat_math_2018</th>\n",
       "      <td>51.0</td>\n",
       "      <td>556.235294</td>\n",
       "      <td>47.772623</td>\n",
       "      <td>480.00</td>\n",
       "      <td>522.500</td>\n",
       "      <td>544.00</td>\n",
       "      <td>593.500</td>\n",
       "      <td>655.0</td>\n",
       "    </tr>\n",
       "    <tr>\n",
       "      <th>sat_total_2018</th>\n",
       "      <td>51.0</td>\n",
       "      <td>1120.019608</td>\n",
       "      <td>94.155083</td>\n",
       "      <td>977.00</td>\n",
       "      <td>1057.500</td>\n",
       "      <td>1098.00</td>\n",
       "      <td>1204.000</td>\n",
       "      <td>1298.0</td>\n",
       "    </tr>\n",
       "  </tbody>\n",
       "</table>\n",
       "</div>"
      ],
      "text/plain": [
       "                        count         mean        std     min       25%  \\\n",
       "act_participation_2017   51.0     0.652549   0.321408    0.08     0.310   \n",
       "act_english_2017         51.0    20.931373   2.353677   16.30    19.000   \n",
       "act_math_2017            51.0    21.182353   1.981989   18.00    19.400   \n",
       "act_reading_2017         51.0    22.013725   2.067271   18.10    20.450   \n",
       "act_science_2017         51.0    21.450980   1.739353   18.20    19.950   \n",
       "act_total_2017           51.0    21.519608   2.020695   17.80    19.800   \n",
       "sat_participation_2017   51.0     0.398039   0.352766    0.02     0.040   \n",
       "sat_readwrite_2017       51.0   569.117647  45.666901  482.00   533.500   \n",
       "sat_math_2017            51.0   556.882353  47.121395  468.00   523.500   \n",
       "sat_total_2017           51.0  1126.098039  92.494812  950.00  1055.500   \n",
       "act_participation_2018   51.0     0.616471   0.340810    0.07     0.285   \n",
       "act_total_2018           51.0    21.486275   2.106278   17.70    19.950   \n",
       "act_english_2018         51.0    20.988235   2.446356   16.60    19.100   \n",
       "act_math_2018            51.0    21.125490   2.035765   17.80    19.400   \n",
       "act_reading_2018         51.0    22.015686   2.167245   18.00    20.450   \n",
       "act_science_2018         51.0    21.345098   1.870114   17.90    19.850   \n",
       "sat_participation_2018   51.0     0.457451   0.373143    0.02     0.045   \n",
       "sat_readwrite_2018       51.0   563.686275  47.502627  480.00   534.500   \n",
       "sat_math_2018            51.0   556.235294  47.772623  480.00   522.500   \n",
       "sat_total_2018           51.0  1120.019608  94.155083  977.00  1057.500   \n",
       "\n",
       "                            50%       75%     max  \n",
       "act_participation_2017     0.69     1.000     1.0  \n",
       "act_english_2017          20.70    23.300    25.5  \n",
       "act_math_2017             20.90    23.100    25.3  \n",
       "act_reading_2017          21.80    24.150    26.0  \n",
       "act_science_2017          21.30    23.200    24.9  \n",
       "act_total_2017            21.40    23.600    25.5  \n",
       "sat_participation_2017     0.38     0.660     1.0  \n",
       "sat_readwrite_2017       559.00   613.000   644.0  \n",
       "sat_math_2017            548.00   599.000   651.0  \n",
       "sat_total_2017          1107.00  1212.000  1295.0  \n",
       "act_participation_2018     0.66     1.000     1.0  \n",
       "act_total_2018            21.30    23.550    25.6  \n",
       "act_english_2018          20.20    23.700    26.0  \n",
       "act_math_2018             20.70    23.150    25.2  \n",
       "act_reading_2018          21.60    24.100    26.1  \n",
       "act_science_2018          21.10    23.050    24.9  \n",
       "sat_participation_2018     0.52     0.775     1.0  \n",
       "sat_readwrite_2018       552.00   610.500   643.0  \n",
       "sat_math_2018            544.00   593.500   655.0  \n",
       "sat_total_2018          1098.00  1204.000  1298.0  "
      ]
     },
     "execution_count": 38,
     "metadata": {},
     "output_type": "execute_result"
    }
   ],
   "source": [
    "#Code:\n",
    "final.describe().transpose()"
   ]
  },
  {
   "cell_type": "markdown",
   "metadata": {},
   "source": [
    "#### Manually calculate standard deviation\n",
    "\n",
    "$$\\sigma = \\sqrt{\\frac{1}{n}\\sum_{i=1}^n(x_i - \\mu)^2}$$\n",
    "\n",
    "- Write a function to calculate standard deviation using the formula above"
   ]
  },
  {
   "cell_type": "code",
   "execution_count": 39,
   "metadata": {},
   "outputs": [
    {
     "data": {
      "text/plain": [
       "2.3304876369363363"
      ]
     },
     "metadata": {},
     "output_type": "display_data"
    },
    {
     "data": {
      "text/plain": [
       "2.3304876369363363"
      ]
     },
     "execution_count": 39,
     "metadata": {},
     "output_type": "execute_result"
    }
   ],
   "source": [
    "#code\n",
    "\n",
    "def stddev(series):\n",
    "    variance = 0\n",
    "    for i in series:\n",
    "        variance = variance + (i - series.mean()) ** 2\n",
    "    variance = (variance / len(series)) ** 0.5\n",
    "    return variance\n",
    "\n",
    "display(stddev(final['act_english_2017']))\n",
    "np.std(final['act_english_2017'])\n",
    "    \n",
    "    \n",
    "    "
   ]
  },
  {
   "cell_type": "markdown",
   "metadata": {},
   "source": [
    "- Use a **dictionary comprehension** to apply your standard deviation function to each numeric column in the dataframe.  **No loops**  \n",
    "- Assign the output to variable `sd` as a dictionary where: \n",
    "    - Each column name is now a key \n",
    "    - That standard deviation of the column is the value \n",
    "     \n",
    "*Example Output :* `{'ACT_Math': 120, 'ACT_Reading': 120, ...}`"
   ]
  },
  {
   "cell_type": "code",
   "execution_count": 40,
   "metadata": {},
   "outputs": [
    {
     "data": {
      "text/plain": [
       "{'act_english_2017': 2.3304876369363363,\n",
       " 'act_math_2017': 1.9624620273436781,\n",
       " 'act_reading_2017': 2.0469029314842646,\n",
       " 'act_science_2017': 1.7222161451443676,\n",
       " 'act_total_2017': 2.000786081581989,\n",
       " 'sat_participation_2017': 0.3492907076664507,\n",
       " 'sat_readwrite_2017': 45.21697020437866,\n",
       " 'sat_math_2017': 46.65713364485503,\n",
       " 'sat_total_2017': 91.58351056778743,\n",
       " 'act_participation_2018': 0.33745194881997503,\n",
       " 'act_total_2018': 2.0855261815801147,\n",
       " 'act_english_2018': 2.4222536143202795,\n",
       " 'act_math_2018': 2.015707255555717,\n",
       " 'act_reading_2018': 2.145891884510421,\n",
       " 'act_science_2018': 1.8516885484833543,\n",
       " 'sat_participation_2018': 0.3694661922353942,\n",
       " 'sat_readwrite_2018': 47.03460978357609,\n",
       " 'sat_math_2018': 47.30194550378352,\n",
       " 'sat_total_2018': 93.22742384464433}"
      ]
     },
     "execution_count": 40,
     "metadata": {},
     "output_type": "execute_result"
    }
   ],
   "source": [
    "#Code:\n",
    "#because final.columns become list of strings...\n",
    "sd = { k:stddev(final[k]) for k in final.iloc[:,2:] }\n",
    "\n",
    "sd"
   ]
  },
  {
   "cell_type": "markdown",
   "metadata": {},
   "source": [
    "Do your manually calculated standard deviations match up with the output from pandas `describe`? What about numpy's `std` method?"
   ]
  },
  {
   "cell_type": "markdown",
   "metadata": {},
   "source": [
    "Answer: it differs from the pandas's describe but it is the same as numpy's std method. The difference is due to Pandas using unbiased estimator (N-1 in the denominator), whereas Numpy by default does not."
   ]
  },
  {
   "cell_type": "markdown",
   "metadata": {},
   "source": [
    "#### Investigate trends in the data\n",
    "Using sorting and/or masking (along with the `.head` method to not print our entire dataframe), consider the following questions:\n",
    "\n",
    "- Which states have the highest and lowest participation rates for the:\n",
    "    - 2017 SAT?\n",
    "    - 2018 SAT?\n",
    "    - 2017 ACT?\n",
    "    - 2018 ACT?\n",
    "- Which states have the highest and lowest mean total/composite scores for the:\n",
    "    - 2017 SAT?\n",
    "    - 2018 SAT?\n",
    "    - 2017 ACT?\n",
    "    - 2018 ACT?\n",
    "- Do any states with 100% participation on a given test have a rate change year-to-year?\n",
    "- Do any states show have >50% participation on *both* tests either year?\n",
    "\n",
    "Based on what you've just observed, have you identified any states that you're especially interested in? **Make a note of these and state *why* you think they're interesting**.\n",
    "\n",
    "**You should comment on your findings at each step in a markdown cell below your code block**. Make sure you include at least one example of sorting your dataframe by a column, and one example of using boolean filtering (i.e., masking) to select a subset of the dataframe."
   ]
  },
  {
   "cell_type": "code",
   "execution_count": 41,
   "metadata": {},
   "outputs": [
    {
     "data": {
      "text/html": [
       "<div>\n",
       "<style scoped>\n",
       "    .dataframe tbody tr th:only-of-type {\n",
       "        vertical-align: middle;\n",
       "    }\n",
       "\n",
       "    .dataframe tbody tr th {\n",
       "        vertical-align: top;\n",
       "    }\n",
       "\n",
       "    .dataframe thead th {\n",
       "        text-align: right;\n",
       "    }\n",
       "</style>\n",
       "<table border=\"1\" class=\"dataframe\">\n",
       "  <thead>\n",
       "    <tr style=\"text-align: right;\">\n",
       "      <th></th>\n",
       "      <th>index</th>\n",
       "      <th>state</th>\n",
       "      <th>sat_participation_2017</th>\n",
       "      <th>index</th>\n",
       "      <th>state</th>\n",
       "      <th>sat_participation_2017</th>\n",
       "    </tr>\n",
       "  </thead>\n",
       "  <tbody>\n",
       "    <tr>\n",
       "      <th>0</th>\n",
       "      <td>34</td>\n",
       "      <td>north dakota</td>\n",
       "      <td>0.02</td>\n",
       "      <td>8</td>\n",
       "      <td>district of columbia</td>\n",
       "      <td>1.00</td>\n",
       "    </tr>\n",
       "    <tr>\n",
       "      <th>1</th>\n",
       "      <td>24</td>\n",
       "      <td>mississippi</td>\n",
       "      <td>0.02</td>\n",
       "      <td>22</td>\n",
       "      <td>michigan</td>\n",
       "      <td>1.00</td>\n",
       "    </tr>\n",
       "    <tr>\n",
       "      <th>2</th>\n",
       "      <td>15</td>\n",
       "      <td>iowa</td>\n",
       "      <td>0.02</td>\n",
       "      <td>6</td>\n",
       "      <td>connecticut</td>\n",
       "      <td>1.00</td>\n",
       "    </tr>\n",
       "    <tr>\n",
       "      <th>3</th>\n",
       "      <td>25</td>\n",
       "      <td>missouri</td>\n",
       "      <td>0.03</td>\n",
       "      <td>7</td>\n",
       "      <td>delaware</td>\n",
       "      <td>1.00</td>\n",
       "    </tr>\n",
       "    <tr>\n",
       "      <th>4</th>\n",
       "      <td>44</td>\n",
       "      <td>utah</td>\n",
       "      <td>0.03</td>\n",
       "      <td>29</td>\n",
       "      <td>new hampshire</td>\n",
       "      <td>0.96</td>\n",
       "    </tr>\n",
       "    <tr>\n",
       "      <th>5</th>\n",
       "      <td>41</td>\n",
       "      <td>south dakota</td>\n",
       "      <td>0.03</td>\n",
       "      <td>19</td>\n",
       "      <td>maine</td>\n",
       "      <td>0.95</td>\n",
       "    </tr>\n",
       "    <tr>\n",
       "      <th>6</th>\n",
       "      <td>27</td>\n",
       "      <td>nebraska</td>\n",
       "      <td>0.03</td>\n",
       "      <td>12</td>\n",
       "      <td>idaho</td>\n",
       "      <td>0.93</td>\n",
       "    </tr>\n",
       "    <tr>\n",
       "      <th>7</th>\n",
       "      <td>49</td>\n",
       "      <td>wisconsin</td>\n",
       "      <td>0.03</td>\n",
       "      <td>9</td>\n",
       "      <td>florida</td>\n",
       "      <td>0.83</td>\n",
       "    </tr>\n",
       "    <tr>\n",
       "      <th>8</th>\n",
       "      <td>23</td>\n",
       "      <td>minnesota</td>\n",
       "      <td>0.03</td>\n",
       "      <td>21</td>\n",
       "      <td>massachusetts</td>\n",
       "      <td>0.76</td>\n",
       "    </tr>\n",
       "    <tr>\n",
       "      <th>9</th>\n",
       "      <td>50</td>\n",
       "      <td>wyoming</td>\n",
       "      <td>0.03</td>\n",
       "      <td>39</td>\n",
       "      <td>rhode island</td>\n",
       "      <td>0.71</td>\n",
       "    </tr>\n",
       "  </tbody>\n",
       "</table>\n",
       "</div>"
      ],
      "text/plain": [
       "   index         state  sat_participation_2017  index                 state  \\\n",
       "0     34  north dakota                    0.02      8  district of columbia   \n",
       "1     24   mississippi                    0.02     22              michigan   \n",
       "2     15          iowa                    0.02      6           connecticut   \n",
       "3     25      missouri                    0.03      7              delaware   \n",
       "4     44          utah                    0.03     29         new hampshire   \n",
       "5     41  south dakota                    0.03     19                 maine   \n",
       "6     27      nebraska                    0.03     12                 idaho   \n",
       "7     49     wisconsin                    0.03      9               florida   \n",
       "8     23     minnesota                    0.03     21         massachusetts   \n",
       "9     50       wyoming                    0.03     39          rhode island   \n",
       "\n",
       "   sat_participation_2017  \n",
       "0                    1.00  \n",
       "1                    1.00  \n",
       "2                    1.00  \n",
       "3                    1.00  \n",
       "4                    0.96  \n",
       "5                    0.95  \n",
       "6                    0.93  \n",
       "7                    0.83  \n",
       "8                    0.76  \n",
       "9                    0.71  "
      ]
     },
     "execution_count": 41,
     "metadata": {},
     "output_type": "execute_result"
    }
   ],
   "source": [
    "#Which states have the highest and lowest participation rates for the:\n",
    "#2017 SAT?\n",
    "\n",
    "# subset out 10 entries of lowest and highest\n",
    "sat_low_part_2017 = final[['state','sat_participation_2017']].sort_values(['sat_participation_2017'],ascending=True).head(10)\n",
    "sat_high_part_2017 = final[['state','sat_participation_2017']].sort_values(['sat_participation_2017'],ascending=False).head(10)\n",
    "\n",
    "#forms a table of lowest on left and highest on right\n",
    "sat_part_2017 = pd.concat([sat_low_part_2017.reset_index(),sat_high_part_2017.reset_index()],axis=1)\n",
    "\n",
    "sat_part_2017"
   ]
  },
  {
   "cell_type": "code",
   "execution_count": 42,
   "metadata": {},
   "outputs": [
    {
     "data": {
      "text/html": [
       "<div>\n",
       "<style scoped>\n",
       "    .dataframe tbody tr th:only-of-type {\n",
       "        vertical-align: middle;\n",
       "    }\n",
       "\n",
       "    .dataframe tbody tr th {\n",
       "        vertical-align: top;\n",
       "    }\n",
       "\n",
       "    .dataframe thead th {\n",
       "        text-align: right;\n",
       "    }\n",
       "</style>\n",
       "<table border=\"1\" class=\"dataframe\">\n",
       "  <thead>\n",
       "    <tr style=\"text-align: right;\">\n",
       "      <th></th>\n",
       "      <th>index</th>\n",
       "      <th>state</th>\n",
       "      <th>sat_participation_2018</th>\n",
       "      <th>index</th>\n",
       "      <th>state</th>\n",
       "      <th>sat_participation_2018</th>\n",
       "    </tr>\n",
       "  </thead>\n",
       "  <tbody>\n",
       "    <tr>\n",
       "      <th>0</th>\n",
       "      <td>34</td>\n",
       "      <td>north dakota</td>\n",
       "      <td>0.02</td>\n",
       "      <td>5</td>\n",
       "      <td>colorado</td>\n",
       "      <td>1.00</td>\n",
       "    </tr>\n",
       "    <tr>\n",
       "      <th>1</th>\n",
       "      <td>50</td>\n",
       "      <td>wyoming</td>\n",
       "      <td>0.03</td>\n",
       "      <td>6</td>\n",
       "      <td>connecticut</td>\n",
       "      <td>1.00</td>\n",
       "    </tr>\n",
       "    <tr>\n",
       "      <th>2</th>\n",
       "      <td>41</td>\n",
       "      <td>south dakota</td>\n",
       "      <td>0.03</td>\n",
       "      <td>7</td>\n",
       "      <td>delaware</td>\n",
       "      <td>1.00</td>\n",
       "    </tr>\n",
       "    <tr>\n",
       "      <th>3</th>\n",
       "      <td>27</td>\n",
       "      <td>nebraska</td>\n",
       "      <td>0.03</td>\n",
       "      <td>22</td>\n",
       "      <td>michigan</td>\n",
       "      <td>1.00</td>\n",
       "    </tr>\n",
       "    <tr>\n",
       "      <th>4</th>\n",
       "      <td>49</td>\n",
       "      <td>wisconsin</td>\n",
       "      <td>0.03</td>\n",
       "      <td>12</td>\n",
       "      <td>idaho</td>\n",
       "      <td>1.00</td>\n",
       "    </tr>\n",
       "    <tr>\n",
       "      <th>5</th>\n",
       "      <td>24</td>\n",
       "      <td>mississippi</td>\n",
       "      <td>0.03</td>\n",
       "      <td>19</td>\n",
       "      <td>maine</td>\n",
       "      <td>0.99</td>\n",
       "    </tr>\n",
       "    <tr>\n",
       "      <th>6</th>\n",
       "      <td>15</td>\n",
       "      <td>iowa</td>\n",
       "      <td>0.03</td>\n",
       "      <td>13</td>\n",
       "      <td>illinois</td>\n",
       "      <td>0.99</td>\n",
       "    </tr>\n",
       "    <tr>\n",
       "      <th>7</th>\n",
       "      <td>44</td>\n",
       "      <td>utah</td>\n",
       "      <td>0.04</td>\n",
       "      <td>39</td>\n",
       "      <td>rhode island</td>\n",
       "      <td>0.97</td>\n",
       "    </tr>\n",
       "    <tr>\n",
       "      <th>8</th>\n",
       "      <td>23</td>\n",
       "      <td>minnesota</td>\n",
       "      <td>0.04</td>\n",
       "      <td>29</td>\n",
       "      <td>new hampshire</td>\n",
       "      <td>0.96</td>\n",
       "    </tr>\n",
       "    <tr>\n",
       "      <th>9</th>\n",
       "      <td>18</td>\n",
       "      <td>louisiana</td>\n",
       "      <td>0.04</td>\n",
       "      <td>8</td>\n",
       "      <td>district of columbia</td>\n",
       "      <td>0.92</td>\n",
       "    </tr>\n",
       "  </tbody>\n",
       "</table>\n",
       "</div>"
      ],
      "text/plain": [
       "   index         state  sat_participation_2018  index                 state  \\\n",
       "0     34  north dakota                    0.02      5              colorado   \n",
       "1     50       wyoming                    0.03      6           connecticut   \n",
       "2     41  south dakota                    0.03      7              delaware   \n",
       "3     27      nebraska                    0.03     22              michigan   \n",
       "4     49     wisconsin                    0.03     12                 idaho   \n",
       "5     24   mississippi                    0.03     19                 maine   \n",
       "6     15          iowa                    0.03     13              illinois   \n",
       "7     44          utah                    0.04     39          rhode island   \n",
       "8     23     minnesota                    0.04     29         new hampshire   \n",
       "9     18     louisiana                    0.04      8  district of columbia   \n",
       "\n",
       "   sat_participation_2018  \n",
       "0                    1.00  \n",
       "1                    1.00  \n",
       "2                    1.00  \n",
       "3                    1.00  \n",
       "4                    1.00  \n",
       "5                    0.99  \n",
       "6                    0.99  \n",
       "7                    0.97  \n",
       "8                    0.96  \n",
       "9                    0.92  "
      ]
     },
     "execution_count": 42,
     "metadata": {},
     "output_type": "execute_result"
    }
   ],
   "source": [
    "#Which states have the highest and lowest participation rates for the:\n",
    "#2018 SAT?\n",
    "\n",
    "# subset out 10 entries of lowest and highest\n",
    "sat_low_part_2018 = final[['state','sat_participation_2018']].sort_values(['sat_participation_2018'],ascending=True).head(10)\n",
    "sat_high_part_2018 = final[['state','sat_participation_2018']].sort_values(['sat_participation_2018'],ascending=False).head(10)\n",
    "\n",
    "#forms a table of lowest on left and highest on right\n",
    "sat_part_2018 = pd.concat([sat_low_part_2018.reset_index(),sat_high_part_2018.reset_index()],axis=1)\n",
    "\n",
    "sat_part_2018"
   ]
  },
  {
   "cell_type": "code",
   "execution_count": 43,
   "metadata": {},
   "outputs": [
    {
     "data": {
      "text/html": [
       "<div>\n",
       "<style scoped>\n",
       "    .dataframe tbody tr th:only-of-type {\n",
       "        vertical-align: middle;\n",
       "    }\n",
       "\n",
       "    .dataframe tbody tr th {\n",
       "        vertical-align: top;\n",
       "    }\n",
       "\n",
       "    .dataframe thead th {\n",
       "        text-align: right;\n",
       "    }\n",
       "</style>\n",
       "<table border=\"1\" class=\"dataframe\">\n",
       "  <thead>\n",
       "    <tr style=\"text-align: right;\">\n",
       "      <th></th>\n",
       "      <th>index</th>\n",
       "      <th>state</th>\n",
       "      <th>act_participation_2017</th>\n",
       "      <th>index</th>\n",
       "      <th>state</th>\n",
       "      <th>act_participation_2017</th>\n",
       "    </tr>\n",
       "  </thead>\n",
       "  <tbody>\n",
       "    <tr>\n",
       "      <th>0</th>\n",
       "      <td>19</td>\n",
       "      <td>maine</td>\n",
       "      <td>0.08</td>\n",
       "      <td>0</td>\n",
       "      <td>alabama</td>\n",
       "      <td>1.0</td>\n",
       "    </tr>\n",
       "    <tr>\n",
       "      <th>1</th>\n",
       "      <td>29</td>\n",
       "      <td>new hampshire</td>\n",
       "      <td>0.18</td>\n",
       "      <td>17</td>\n",
       "      <td>kentucky</td>\n",
       "      <td>1.0</td>\n",
       "    </tr>\n",
       "    <tr>\n",
       "      <th>2</th>\n",
       "      <td>7</td>\n",
       "      <td>delaware</td>\n",
       "      <td>0.18</td>\n",
       "      <td>49</td>\n",
       "      <td>wisconsin</td>\n",
       "      <td>1.0</td>\n",
       "    </tr>\n",
       "    <tr>\n",
       "      <th>3</th>\n",
       "      <td>39</td>\n",
       "      <td>rhode island</td>\n",
       "      <td>0.21</td>\n",
       "      <td>44</td>\n",
       "      <td>utah</td>\n",
       "      <td>1.0</td>\n",
       "    </tr>\n",
       "    <tr>\n",
       "      <th>4</th>\n",
       "      <td>38</td>\n",
       "      <td>pennsylvania</td>\n",
       "      <td>0.23</td>\n",
       "      <td>42</td>\n",
       "      <td>tennessee</td>\n",
       "      <td>1.0</td>\n",
       "    </tr>\n",
       "    <tr>\n",
       "      <th>5</th>\n",
       "      <td>20</td>\n",
       "      <td>maryland</td>\n",
       "      <td>0.28</td>\n",
       "      <td>40</td>\n",
       "      <td>south carolina</td>\n",
       "      <td>1.0</td>\n",
       "    </tr>\n",
       "    <tr>\n",
       "      <th>6</th>\n",
       "      <td>45</td>\n",
       "      <td>vermont</td>\n",
       "      <td>0.29</td>\n",
       "      <td>36</td>\n",
       "      <td>oklahoma</td>\n",
       "      <td>1.0</td>\n",
       "    </tr>\n",
       "    <tr>\n",
       "      <th>7</th>\n",
       "      <td>21</td>\n",
       "      <td>massachusetts</td>\n",
       "      <td>0.29</td>\n",
       "      <td>33</td>\n",
       "      <td>north carolina</td>\n",
       "      <td>1.0</td>\n",
       "    </tr>\n",
       "    <tr>\n",
       "      <th>8</th>\n",
       "      <td>22</td>\n",
       "      <td>michigan</td>\n",
       "      <td>0.29</td>\n",
       "      <td>28</td>\n",
       "      <td>nevada</td>\n",
       "      <td>1.0</td>\n",
       "    </tr>\n",
       "    <tr>\n",
       "      <th>9</th>\n",
       "      <td>46</td>\n",
       "      <td>virginia</td>\n",
       "      <td>0.29</td>\n",
       "      <td>26</td>\n",
       "      <td>montana</td>\n",
       "      <td>1.0</td>\n",
       "    </tr>\n",
       "  </tbody>\n",
       "</table>\n",
       "</div>"
      ],
      "text/plain": [
       "   index          state  act_participation_2017  index           state  \\\n",
       "0     19          maine                    0.08      0         alabama   \n",
       "1     29  new hampshire                    0.18     17        kentucky   \n",
       "2      7       delaware                    0.18     49       wisconsin   \n",
       "3     39   rhode island                    0.21     44            utah   \n",
       "4     38   pennsylvania                    0.23     42       tennessee   \n",
       "5     20       maryland                    0.28     40  south carolina   \n",
       "6     45        vermont                    0.29     36        oklahoma   \n",
       "7     21  massachusetts                    0.29     33  north carolina   \n",
       "8     22       michigan                    0.29     28          nevada   \n",
       "9     46       virginia                    0.29     26         montana   \n",
       "\n",
       "   act_participation_2017  \n",
       "0                     1.0  \n",
       "1                     1.0  \n",
       "2                     1.0  \n",
       "3                     1.0  \n",
       "4                     1.0  \n",
       "5                     1.0  \n",
       "6                     1.0  \n",
       "7                     1.0  \n",
       "8                     1.0  \n",
       "9                     1.0  "
      ]
     },
     "execution_count": 43,
     "metadata": {},
     "output_type": "execute_result"
    }
   ],
   "source": [
    "#Which states have the highest and lowest participation rates for the:\n",
    "#2017 ACT?\n",
    "\n",
    "# subset out 10 entries of lowest and highest\n",
    "act_low_part_2017 = final[['state','act_participation_2017']].sort_values(['act_participation_2017'],ascending=True).head(10)\n",
    "act_high_part_2017 = final[['state','act_participation_2017']].sort_values(['act_participation_2017'],ascending=False).head(10)\n",
    "\n",
    "#forms a table of lowest on left and highest on right\n",
    "act_part_2017 = pd.concat([act_low_part_2017.reset_index(),act_high_part_2017.reset_index()],axis=1)\n",
    "\n",
    "act_part_2017"
   ]
  },
  {
   "cell_type": "code",
   "execution_count": 44,
   "metadata": {},
   "outputs": [
    {
     "data": {
      "text/html": [
       "<div>\n",
       "<style scoped>\n",
       "    .dataframe tbody tr th:only-of-type {\n",
       "        vertical-align: middle;\n",
       "    }\n",
       "\n",
       "    .dataframe tbody tr th {\n",
       "        vertical-align: top;\n",
       "    }\n",
       "\n",
       "    .dataframe thead th {\n",
       "        text-align: right;\n",
       "    }\n",
       "</style>\n",
       "<table border=\"1\" class=\"dataframe\">\n",
       "  <thead>\n",
       "    <tr style=\"text-align: right;\">\n",
       "      <th></th>\n",
       "      <th>index</th>\n",
       "      <th>state</th>\n",
       "      <th>act_participation_2018</th>\n",
       "      <th>index</th>\n",
       "      <th>state</th>\n",
       "      <th>act_participation_2018</th>\n",
       "    </tr>\n",
       "  </thead>\n",
       "  <tbody>\n",
       "    <tr>\n",
       "      <th>0</th>\n",
       "      <td>19</td>\n",
       "      <td>maine</td>\n",
       "      <td>0.07</td>\n",
       "      <td>0</td>\n",
       "      <td>alabama</td>\n",
       "      <td>1.0</td>\n",
       "    </tr>\n",
       "    <tr>\n",
       "      <th>1</th>\n",
       "      <td>39</td>\n",
       "      <td>rhode island</td>\n",
       "      <td>0.15</td>\n",
       "      <td>17</td>\n",
       "      <td>kentucky</td>\n",
       "      <td>1.0</td>\n",
       "    </tr>\n",
       "    <tr>\n",
       "      <th>2</th>\n",
       "      <td>29</td>\n",
       "      <td>new hampshire</td>\n",
       "      <td>0.16</td>\n",
       "      <td>49</td>\n",
       "      <td>wisconsin</td>\n",
       "      <td>1.0</td>\n",
       "    </tr>\n",
       "    <tr>\n",
       "      <th>3</th>\n",
       "      <td>7</td>\n",
       "      <td>delaware</td>\n",
       "      <td>0.17</td>\n",
       "      <td>44</td>\n",
       "      <td>utah</td>\n",
       "      <td>1.0</td>\n",
       "    </tr>\n",
       "    <tr>\n",
       "      <th>4</th>\n",
       "      <td>38</td>\n",
       "      <td>pennsylvania</td>\n",
       "      <td>0.20</td>\n",
       "      <td>42</td>\n",
       "      <td>tennessee</td>\n",
       "      <td>1.0</td>\n",
       "    </tr>\n",
       "    <tr>\n",
       "      <th>5</th>\n",
       "      <td>22</td>\n",
       "      <td>michigan</td>\n",
       "      <td>0.22</td>\n",
       "      <td>40</td>\n",
       "      <td>south carolina</td>\n",
       "      <td>1.0</td>\n",
       "    </tr>\n",
       "    <tr>\n",
       "      <th>6</th>\n",
       "      <td>47</td>\n",
       "      <td>washington</td>\n",
       "      <td>0.24</td>\n",
       "      <td>36</td>\n",
       "      <td>oklahoma</td>\n",
       "      <td>1.0</td>\n",
       "    </tr>\n",
       "    <tr>\n",
       "      <th>7</th>\n",
       "      <td>45</td>\n",
       "      <td>vermont</td>\n",
       "      <td>0.24</td>\n",
       "      <td>35</td>\n",
       "      <td>ohio</td>\n",
       "      <td>1.0</td>\n",
       "    </tr>\n",
       "    <tr>\n",
       "      <th>8</th>\n",
       "      <td>46</td>\n",
       "      <td>virginia</td>\n",
       "      <td>0.24</td>\n",
       "      <td>33</td>\n",
       "      <td>north carolina</td>\n",
       "      <td>1.0</td>\n",
       "    </tr>\n",
       "    <tr>\n",
       "      <th>9</th>\n",
       "      <td>21</td>\n",
       "      <td>massachusetts</td>\n",
       "      <td>0.25</td>\n",
       "      <td>28</td>\n",
       "      <td>nevada</td>\n",
       "      <td>1.0</td>\n",
       "    </tr>\n",
       "  </tbody>\n",
       "</table>\n",
       "</div>"
      ],
      "text/plain": [
       "   index          state  act_participation_2018  index           state  \\\n",
       "0     19          maine                    0.07      0         alabama   \n",
       "1     39   rhode island                    0.15     17        kentucky   \n",
       "2     29  new hampshire                    0.16     49       wisconsin   \n",
       "3      7       delaware                    0.17     44            utah   \n",
       "4     38   pennsylvania                    0.20     42       tennessee   \n",
       "5     22       michigan                    0.22     40  south carolina   \n",
       "6     47     washington                    0.24     36        oklahoma   \n",
       "7     45        vermont                    0.24     35            ohio   \n",
       "8     46       virginia                    0.24     33  north carolina   \n",
       "9     21  massachusetts                    0.25     28          nevada   \n",
       "\n",
       "   act_participation_2018  \n",
       "0                     1.0  \n",
       "1                     1.0  \n",
       "2                     1.0  \n",
       "3                     1.0  \n",
       "4                     1.0  \n",
       "5                     1.0  \n",
       "6                     1.0  \n",
       "7                     1.0  \n",
       "8                     1.0  \n",
       "9                     1.0  "
      ]
     },
     "execution_count": 44,
     "metadata": {},
     "output_type": "execute_result"
    }
   ],
   "source": [
    "#Which states have the highest and lowest participation rates for the\n",
    "#act2018\n",
    "\n",
    "# subset out 10 entries of lowest and highest\n",
    "act_low_part_2018 = final[['state','act_participation_2018']].sort_values(['act_participation_2018'],ascending=True).head(10)\n",
    "act_high_part_2018 = final[['state','act_participation_2018']].sort_values(['act_participation_2018'],ascending=False).head(10)\n",
    "\n",
    "#forms a table of lowest on left and highest on right\n",
    "act_part_2018 = pd.concat([act_low_part_2018.reset_index(),act_high_part_2018.reset_index()],axis=1)\n",
    "\n",
    "act_part_2018"
   ]
  },
  {
   "cell_type": "code",
   "execution_count": 45,
   "metadata": {},
   "outputs": [
    {
     "data": {
      "text/html": [
       "<div>\n",
       "<style scoped>\n",
       "    .dataframe tbody tr th:only-of-type {\n",
       "        vertical-align: middle;\n",
       "    }\n",
       "\n",
       "    .dataframe tbody tr th {\n",
       "        vertical-align: top;\n",
       "    }\n",
       "\n",
       "    .dataframe thead th {\n",
       "        text-align: right;\n",
       "    }\n",
       "</style>\n",
       "<table border=\"1\" class=\"dataframe\">\n",
       "  <thead>\n",
       "    <tr style=\"text-align: right;\">\n",
       "      <th></th>\n",
       "      <th>index</th>\n",
       "      <th>state</th>\n",
       "      <th>sat_total_2017</th>\n",
       "      <th>index</th>\n",
       "      <th>state</th>\n",
       "      <th>sat_total_2017</th>\n",
       "    </tr>\n",
       "  </thead>\n",
       "  <tbody>\n",
       "    <tr>\n",
       "      <th>0</th>\n",
       "      <td>8</td>\n",
       "      <td>district of columbia</td>\n",
       "      <td>950</td>\n",
       "      <td>23</td>\n",
       "      <td>minnesota</td>\n",
       "      <td>1295</td>\n",
       "    </tr>\n",
       "    <tr>\n",
       "      <th>1</th>\n",
       "      <td>7</td>\n",
       "      <td>delaware</td>\n",
       "      <td>996</td>\n",
       "      <td>49</td>\n",
       "      <td>wisconsin</td>\n",
       "      <td>1291</td>\n",
       "    </tr>\n",
       "    <tr>\n",
       "      <th>2</th>\n",
       "      <td>12</td>\n",
       "      <td>idaho</td>\n",
       "      <td>1005</td>\n",
       "      <td>15</td>\n",
       "      <td>iowa</td>\n",
       "      <td>1275</td>\n",
       "    </tr>\n",
       "    <tr>\n",
       "      <th>3</th>\n",
       "      <td>22</td>\n",
       "      <td>michigan</td>\n",
       "      <td>1005</td>\n",
       "      <td>25</td>\n",
       "      <td>missouri</td>\n",
       "      <td>1271</td>\n",
       "    </tr>\n",
       "    <tr>\n",
       "      <th>4</th>\n",
       "      <td>19</td>\n",
       "      <td>maine</td>\n",
       "      <td>1012</td>\n",
       "      <td>16</td>\n",
       "      <td>kansas</td>\n",
       "      <td>1260</td>\n",
       "    </tr>\n",
       "    <tr>\n",
       "      <th>5</th>\n",
       "      <td>9</td>\n",
       "      <td>florida</td>\n",
       "      <td>1017</td>\n",
       "      <td>34</td>\n",
       "      <td>north dakota</td>\n",
       "      <td>1256</td>\n",
       "    </tr>\n",
       "    <tr>\n",
       "      <th>6</th>\n",
       "      <td>43</td>\n",
       "      <td>texas</td>\n",
       "      <td>1020</td>\n",
       "      <td>27</td>\n",
       "      <td>nebraska</td>\n",
       "      <td>1253</td>\n",
       "    </tr>\n",
       "    <tr>\n",
       "      <th>7</th>\n",
       "      <td>6</td>\n",
       "      <td>connecticut</td>\n",
       "      <td>1041</td>\n",
       "      <td>17</td>\n",
       "      <td>kentucky</td>\n",
       "      <td>1247</td>\n",
       "    </tr>\n",
       "    <tr>\n",
       "      <th>8</th>\n",
       "      <td>36</td>\n",
       "      <td>oklahoma</td>\n",
       "      <td>1047</td>\n",
       "      <td>24</td>\n",
       "      <td>mississippi</td>\n",
       "      <td>1242</td>\n",
       "    </tr>\n",
       "    <tr>\n",
       "      <th>9</th>\n",
       "      <td>10</td>\n",
       "      <td>georgia</td>\n",
       "      <td>1050</td>\n",
       "      <td>44</td>\n",
       "      <td>utah</td>\n",
       "      <td>1238</td>\n",
       "    </tr>\n",
       "  </tbody>\n",
       "</table>\n",
       "</div>"
      ],
      "text/plain": [
       "   index                 state  sat_total_2017  index         state  \\\n",
       "0      8  district of columbia             950     23     minnesota   \n",
       "1      7              delaware             996     49     wisconsin   \n",
       "2     12                 idaho            1005     15          iowa   \n",
       "3     22              michigan            1005     25      missouri   \n",
       "4     19                 maine            1012     16        kansas   \n",
       "5      9               florida            1017     34  north dakota   \n",
       "6     43                 texas            1020     27      nebraska   \n",
       "7      6           connecticut            1041     17      kentucky   \n",
       "8     36              oklahoma            1047     24   mississippi   \n",
       "9     10               georgia            1050     44          utah   \n",
       "\n",
       "   sat_total_2017  \n",
       "0            1295  \n",
       "1            1291  \n",
       "2            1275  \n",
       "3            1271  \n",
       "4            1260  \n",
       "5            1256  \n",
       "6            1253  \n",
       "7            1247  \n",
       "8            1242  \n",
       "9            1238  "
      ]
     },
     "execution_count": 45,
     "metadata": {},
     "output_type": "execute_result"
    }
   ],
   "source": [
    "#Which states have the highest and lowest mean total/composite scores for the:\n",
    "#2017 SAT?\n",
    "\n",
    "# subset out 10 entries of lowest and highest\n",
    "sat_low_total_2017 = final[['state','sat_total_2017']].sort_values(['sat_total_2017'],ascending=True).head(10)\n",
    "sat_high_total_2017 = final[['state','sat_total_2017']].sort_values(['sat_total_2017'],ascending=False).head(10)\n",
    "\n",
    "#forms a table of lowest on left and highest on right\n",
    "sat_total_2017 = pd.concat([sat_low_total_2017.reset_index(),sat_high_total_2017.reset_index()],axis=1)\n",
    "\n",
    "sat_total_2017"
   ]
  },
  {
   "cell_type": "code",
   "execution_count": 46,
   "metadata": {},
   "outputs": [
    {
     "data": {
      "text/html": [
       "<div>\n",
       "<style scoped>\n",
       "    .dataframe tbody tr th:only-of-type {\n",
       "        vertical-align: middle;\n",
       "    }\n",
       "\n",
       "    .dataframe tbody tr th {\n",
       "        vertical-align: top;\n",
       "    }\n",
       "\n",
       "    .dataframe thead th {\n",
       "        text-align: right;\n",
       "    }\n",
       "</style>\n",
       "<table border=\"1\" class=\"dataframe\">\n",
       "  <thead>\n",
       "    <tr style=\"text-align: right;\">\n",
       "      <th></th>\n",
       "      <th>index</th>\n",
       "      <th>state</th>\n",
       "      <th>sat_total_2018</th>\n",
       "      <th>index</th>\n",
       "      <th>state</th>\n",
       "      <th>sat_total_2018</th>\n",
       "    </tr>\n",
       "  </thead>\n",
       "  <tbody>\n",
       "    <tr>\n",
       "      <th>0</th>\n",
       "      <td>8</td>\n",
       "      <td>district of columbia</td>\n",
       "      <td>977</td>\n",
       "      <td>23</td>\n",
       "      <td>minnesota</td>\n",
       "      <td>1298</td>\n",
       "    </tr>\n",
       "    <tr>\n",
       "      <th>1</th>\n",
       "      <td>7</td>\n",
       "      <td>delaware</td>\n",
       "      <td>998</td>\n",
       "      <td>49</td>\n",
       "      <td>wisconsin</td>\n",
       "      <td>1294</td>\n",
       "    </tr>\n",
       "    <tr>\n",
       "      <th>2</th>\n",
       "      <td>48</td>\n",
       "      <td>west virginia</td>\n",
       "      <td>999</td>\n",
       "      <td>34</td>\n",
       "      <td>north dakota</td>\n",
       "      <td>1283</td>\n",
       "    </tr>\n",
       "    <tr>\n",
       "      <th>3</th>\n",
       "      <td>12</td>\n",
       "      <td>idaho</td>\n",
       "      <td>1001</td>\n",
       "      <td>15</td>\n",
       "      <td>iowa</td>\n",
       "      <td>1265</td>\n",
       "    </tr>\n",
       "    <tr>\n",
       "      <th>4</th>\n",
       "      <td>44</td>\n",
       "      <td>utah</td>\n",
       "      <td>1010</td>\n",
       "      <td>16</td>\n",
       "      <td>kansas</td>\n",
       "      <td>1265</td>\n",
       "    </tr>\n",
       "    <tr>\n",
       "      <th>5</th>\n",
       "      <td>11</td>\n",
       "      <td>hawaii</td>\n",
       "      <td>1010</td>\n",
       "      <td>25</td>\n",
       "      <td>missouri</td>\n",
       "      <td>1262</td>\n",
       "    </tr>\n",
       "    <tr>\n",
       "      <th>6</th>\n",
       "      <td>22</td>\n",
       "      <td>michigan</td>\n",
       "      <td>1011</td>\n",
       "      <td>50</td>\n",
       "      <td>wyoming</td>\n",
       "      <td>1257</td>\n",
       "    </tr>\n",
       "    <tr>\n",
       "      <th>7</th>\n",
       "      <td>19</td>\n",
       "      <td>maine</td>\n",
       "      <td>1013</td>\n",
       "      <td>27</td>\n",
       "      <td>nebraska</td>\n",
       "      <td>1252</td>\n",
       "    </tr>\n",
       "    <tr>\n",
       "      <th>8</th>\n",
       "      <td>39</td>\n",
       "      <td>rhode island</td>\n",
       "      <td>1018</td>\n",
       "      <td>17</td>\n",
       "      <td>kentucky</td>\n",
       "      <td>1248</td>\n",
       "    </tr>\n",
       "    <tr>\n",
       "      <th>9</th>\n",
       "      <td>13</td>\n",
       "      <td>illinois</td>\n",
       "      <td>1019</td>\n",
       "      <td>41</td>\n",
       "      <td>south dakota</td>\n",
       "      <td>1240</td>\n",
       "    </tr>\n",
       "  </tbody>\n",
       "</table>\n",
       "</div>"
      ],
      "text/plain": [
       "   index                 state  sat_total_2018  index         state  \\\n",
       "0      8  district of columbia             977     23     minnesota   \n",
       "1      7              delaware             998     49     wisconsin   \n",
       "2     48         west virginia             999     34  north dakota   \n",
       "3     12                 idaho            1001     15          iowa   \n",
       "4     44                  utah            1010     16        kansas   \n",
       "5     11                hawaii            1010     25      missouri   \n",
       "6     22              michigan            1011     50       wyoming   \n",
       "7     19                 maine            1013     27      nebraska   \n",
       "8     39          rhode island            1018     17      kentucky   \n",
       "9     13              illinois            1019     41  south dakota   \n",
       "\n",
       "   sat_total_2018  \n",
       "0            1298  \n",
       "1            1294  \n",
       "2            1283  \n",
       "3            1265  \n",
       "4            1265  \n",
       "5            1262  \n",
       "6            1257  \n",
       "7            1252  \n",
       "8            1248  \n",
       "9            1240  "
      ]
     },
     "execution_count": 46,
     "metadata": {},
     "output_type": "execute_result"
    }
   ],
   "source": [
    "#2018 SAT?\n",
    "\n",
    "# subset out 10 entries of lowest and highest\n",
    "sat_low_total_2018 = final[['state','sat_total_2018']].sort_values(['sat_total_2018'],ascending=True).head(10)\n",
    "sat_high_total_2018 = final[['state','sat_total_2018']].sort_values(['sat_total_2018'],ascending=False).head(10)\n",
    "\n",
    "#forms a table of lowest on left and highest on right\n",
    "sat_total_2018 = pd.concat([sat_low_total_2018.reset_index(),sat_high_total_2018.reset_index()],axis=1)\n",
    "\n",
    "sat_total_2018"
   ]
  },
  {
   "cell_type": "code",
   "execution_count": 47,
   "metadata": {},
   "outputs": [
    {
     "data": {
      "text/html": [
       "<div>\n",
       "<style scoped>\n",
       "    .dataframe tbody tr th:only-of-type {\n",
       "        vertical-align: middle;\n",
       "    }\n",
       "\n",
       "    .dataframe tbody tr th {\n",
       "        vertical-align: top;\n",
       "    }\n",
       "\n",
       "    .dataframe thead th {\n",
       "        text-align: right;\n",
       "    }\n",
       "</style>\n",
       "<table border=\"1\" class=\"dataframe\">\n",
       "  <thead>\n",
       "    <tr style=\"text-align: right;\">\n",
       "      <th></th>\n",
       "      <th>index</th>\n",
       "      <th>state</th>\n",
       "      <th>act_total_2017</th>\n",
       "      <th>index</th>\n",
       "      <th>state</th>\n",
       "      <th>act_total_2017</th>\n",
       "    </tr>\n",
       "  </thead>\n",
       "  <tbody>\n",
       "    <tr>\n",
       "      <th>0</th>\n",
       "      <td>28</td>\n",
       "      <td>nevada</td>\n",
       "      <td>17.8</td>\n",
       "      <td>29</td>\n",
       "      <td>new hampshire</td>\n",
       "      <td>25.5</td>\n",
       "    </tr>\n",
       "    <tr>\n",
       "      <th>1</th>\n",
       "      <td>24</td>\n",
       "      <td>mississippi</td>\n",
       "      <td>18.6</td>\n",
       "      <td>21</td>\n",
       "      <td>massachusetts</td>\n",
       "      <td>25.4</td>\n",
       "    </tr>\n",
       "    <tr>\n",
       "      <th>2</th>\n",
       "      <td>40</td>\n",
       "      <td>south carolina</td>\n",
       "      <td>18.7</td>\n",
       "      <td>6</td>\n",
       "      <td>connecticut</td>\n",
       "      <td>25.2</td>\n",
       "    </tr>\n",
       "    <tr>\n",
       "      <th>3</th>\n",
       "      <td>11</td>\n",
       "      <td>hawaii</td>\n",
       "      <td>19.0</td>\n",
       "      <td>19</td>\n",
       "      <td>maine</td>\n",
       "      <td>24.3</td>\n",
       "    </tr>\n",
       "    <tr>\n",
       "      <th>4</th>\n",
       "      <td>33</td>\n",
       "      <td>north carolina</td>\n",
       "      <td>19.1</td>\n",
       "      <td>8</td>\n",
       "      <td>district of columbia</td>\n",
       "      <td>24.2</td>\n",
       "    </tr>\n",
       "    <tr>\n",
       "      <th>5</th>\n",
       "      <td>0</td>\n",
       "      <td>alabama</td>\n",
       "      <td>19.2</td>\n",
       "      <td>32</td>\n",
       "      <td>new york</td>\n",
       "      <td>24.2</td>\n",
       "    </tr>\n",
       "    <tr>\n",
       "      <th>6</th>\n",
       "      <td>3</td>\n",
       "      <td>arkansas</td>\n",
       "      <td>19.4</td>\n",
       "      <td>22</td>\n",
       "      <td>michigan</td>\n",
       "      <td>24.1</td>\n",
       "    </tr>\n",
       "    <tr>\n",
       "      <th>7</th>\n",
       "      <td>36</td>\n",
       "      <td>oklahoma</td>\n",
       "      <td>19.4</td>\n",
       "      <td>7</td>\n",
       "      <td>delaware</td>\n",
       "      <td>24.1</td>\n",
       "    </tr>\n",
       "    <tr>\n",
       "      <th>8</th>\n",
       "      <td>18</td>\n",
       "      <td>louisiana</td>\n",
       "      <td>19.5</td>\n",
       "      <td>39</td>\n",
       "      <td>rhode island</td>\n",
       "      <td>24.0</td>\n",
       "    </tr>\n",
       "    <tr>\n",
       "      <th>9</th>\n",
       "      <td>2</td>\n",
       "      <td>arizona</td>\n",
       "      <td>19.7</td>\n",
       "      <td>30</td>\n",
       "      <td>new jersey</td>\n",
       "      <td>23.9</td>\n",
       "    </tr>\n",
       "  </tbody>\n",
       "</table>\n",
       "</div>"
      ],
      "text/plain": [
       "   index           state  act_total_2017  index                 state  \\\n",
       "0     28          nevada            17.8     29         new hampshire   \n",
       "1     24     mississippi            18.6     21         massachusetts   \n",
       "2     40  south carolina            18.7      6           connecticut   \n",
       "3     11          hawaii            19.0     19                 maine   \n",
       "4     33  north carolina            19.1      8  district of columbia   \n",
       "5      0         alabama            19.2     32              new york   \n",
       "6      3        arkansas            19.4     22              michigan   \n",
       "7     36        oklahoma            19.4      7              delaware   \n",
       "8     18       louisiana            19.5     39          rhode island   \n",
       "9      2         arizona            19.7     30            new jersey   \n",
       "\n",
       "   act_total_2017  \n",
       "0            25.5  \n",
       "1            25.4  \n",
       "2            25.2  \n",
       "3            24.3  \n",
       "4            24.2  \n",
       "5            24.2  \n",
       "6            24.1  \n",
       "7            24.1  \n",
       "8            24.0  \n",
       "9            23.9  "
      ]
     },
     "execution_count": 47,
     "metadata": {},
     "output_type": "execute_result"
    }
   ],
   "source": [
    "#2017 ACT?\n",
    "# subset out 10 entries of lowest and highest\n",
    "act_low_total_2017 = final[['state','act_total_2017']].sort_values(['act_total_2017'],ascending=True).head(10)\n",
    "act_high_total_2017 = final[['state','act_total_2017']].sort_values(['act_total_2017'],ascending=False).head(10)\n",
    "\n",
    "#forms a table of lowest on left and highest on right\n",
    "act_total_2017 = pd.concat([act_low_total_2017.reset_index(),act_high_total_2017.reset_index()],axis=1)\n",
    "\n",
    "act_total_2017"
   ]
  },
  {
   "cell_type": "code",
   "execution_count": 48,
   "metadata": {},
   "outputs": [
    {
     "data": {
      "text/html": [
       "<div>\n",
       "<style scoped>\n",
       "    .dataframe tbody tr th:only-of-type {\n",
       "        vertical-align: middle;\n",
       "    }\n",
       "\n",
       "    .dataframe tbody tr th {\n",
       "        vertical-align: top;\n",
       "    }\n",
       "\n",
       "    .dataframe thead th {\n",
       "        text-align: right;\n",
       "    }\n",
       "</style>\n",
       "<table border=\"1\" class=\"dataframe\">\n",
       "  <thead>\n",
       "    <tr style=\"text-align: right;\">\n",
       "      <th></th>\n",
       "      <th>index</th>\n",
       "      <th>state</th>\n",
       "      <th>act_total_2018</th>\n",
       "      <th>index</th>\n",
       "      <th>state</th>\n",
       "      <th>act_total_2018</th>\n",
       "    </tr>\n",
       "  </thead>\n",
       "  <tbody>\n",
       "    <tr>\n",
       "      <th>0</th>\n",
       "      <td>28</td>\n",
       "      <td>nevada</td>\n",
       "      <td>17.7</td>\n",
       "      <td>6</td>\n",
       "      <td>connecticut</td>\n",
       "      <td>25.6</td>\n",
       "    </tr>\n",
       "    <tr>\n",
       "      <th>1</th>\n",
       "      <td>40</td>\n",
       "      <td>south carolina</td>\n",
       "      <td>18.3</td>\n",
       "      <td>21</td>\n",
       "      <td>massachusetts</td>\n",
       "      <td>25.5</td>\n",
       "    </tr>\n",
       "    <tr>\n",
       "      <th>2</th>\n",
       "      <td>24</td>\n",
       "      <td>mississippi</td>\n",
       "      <td>18.6</td>\n",
       "      <td>29</td>\n",
       "      <td>new hampshire</td>\n",
       "      <td>25.1</td>\n",
       "    </tr>\n",
       "    <tr>\n",
       "      <th>3</th>\n",
       "      <td>11</td>\n",
       "      <td>hawaii</td>\n",
       "      <td>18.9</td>\n",
       "      <td>32</td>\n",
       "      <td>new york</td>\n",
       "      <td>24.5</td>\n",
       "    </tr>\n",
       "    <tr>\n",
       "      <th>4</th>\n",
       "      <td>0</td>\n",
       "      <td>alabama</td>\n",
       "      <td>19.1</td>\n",
       "      <td>22</td>\n",
       "      <td>michigan</td>\n",
       "      <td>24.4</td>\n",
       "    </tr>\n",
       "    <tr>\n",
       "      <th>5</th>\n",
       "      <td>33</td>\n",
       "      <td>north carolina</td>\n",
       "      <td>19.1</td>\n",
       "      <td>39</td>\n",
       "      <td>rhode island</td>\n",
       "      <td>24.2</td>\n",
       "    </tr>\n",
       "    <tr>\n",
       "      <th>6</th>\n",
       "      <td>2</td>\n",
       "      <td>arizona</td>\n",
       "      <td>19.2</td>\n",
       "      <td>45</td>\n",
       "      <td>vermont</td>\n",
       "      <td>24.1</td>\n",
       "    </tr>\n",
       "    <tr>\n",
       "      <th>7</th>\n",
       "      <td>18</td>\n",
       "      <td>louisiana</td>\n",
       "      <td>19.2</td>\n",
       "      <td>19</td>\n",
       "      <td>maine</td>\n",
       "      <td>24.0</td>\n",
       "    </tr>\n",
       "    <tr>\n",
       "      <th>8</th>\n",
       "      <td>36</td>\n",
       "      <td>oklahoma</td>\n",
       "      <td>19.3</td>\n",
       "      <td>46</td>\n",
       "      <td>virginia</td>\n",
       "      <td>23.9</td>\n",
       "    </tr>\n",
       "    <tr>\n",
       "      <th>9</th>\n",
       "      <td>3</td>\n",
       "      <td>arkansas</td>\n",
       "      <td>19.4</td>\n",
       "      <td>5</td>\n",
       "      <td>colorado</td>\n",
       "      <td>23.9</td>\n",
       "    </tr>\n",
       "  </tbody>\n",
       "</table>\n",
       "</div>"
      ],
      "text/plain": [
       "   index           state  act_total_2018  index          state  act_total_2018\n",
       "0     28          nevada            17.7      6    connecticut            25.6\n",
       "1     40  south carolina            18.3     21  massachusetts            25.5\n",
       "2     24     mississippi            18.6     29  new hampshire            25.1\n",
       "3     11          hawaii            18.9     32       new york            24.5\n",
       "4      0         alabama            19.1     22       michigan            24.4\n",
       "5     33  north carolina            19.1     39   rhode island            24.2\n",
       "6      2         arizona            19.2     45        vermont            24.1\n",
       "7     18       louisiana            19.2     19          maine            24.0\n",
       "8     36        oklahoma            19.3     46       virginia            23.9\n",
       "9      3        arkansas            19.4      5       colorado            23.9"
      ]
     },
     "execution_count": 48,
     "metadata": {},
     "output_type": "execute_result"
    }
   ],
   "source": [
    "#2018 ACT?\n",
    "# subset out 10 entries of lowest and highest\n",
    "act_low_total_2018 = final[['state','act_total_2018']].sort_values(['act_total_2018'],ascending=True).head(10)\n",
    "act_high_total_2018 = final[['state','act_total_2018']].sort_values(['act_total_2018'],ascending=False).head(10)\n",
    "\n",
    "#forms a table of lowest on left and highest on right\n",
    "act_total_2018 = pd.concat([act_low_total_2018.reset_index(),act_high_total_2018.reset_index()],axis=1)\n",
    "\n",
    "act_total_2018"
   ]
  },
  {
   "cell_type": "code",
   "execution_count": 49,
   "metadata": {},
   "outputs": [
    {
     "data": {
      "text/html": [
       "<div>\n",
       "<style scoped>\n",
       "    .dataframe tbody tr th:only-of-type {\n",
       "        vertical-align: middle;\n",
       "    }\n",
       "\n",
       "    .dataframe tbody tr th {\n",
       "        vertical-align: top;\n",
       "    }\n",
       "\n",
       "    .dataframe thead th {\n",
       "        text-align: right;\n",
       "    }\n",
       "</style>\n",
       "<table border=\"1\" class=\"dataframe\">\n",
       "  <thead>\n",
       "    <tr style=\"text-align: right;\">\n",
       "      <th></th>\n",
       "      <th>state</th>\n",
       "      <th>act_participation_2017</th>\n",
       "      <th>act_participation_2018</th>\n",
       "      <th>sat_participation_2017</th>\n",
       "      <th>sat_participation_2018</th>\n",
       "    </tr>\n",
       "  </thead>\n",
       "  <tbody>\n",
       "    <tr>\n",
       "      <th>0</th>\n",
       "      <td>alabama</td>\n",
       "      <td>1.0</td>\n",
       "      <td>1.00</td>\n",
       "      <td>0.05</td>\n",
       "      <td>0.06</td>\n",
       "    </tr>\n",
       "    <tr>\n",
       "      <th>3</th>\n",
       "      <td>arkansas</td>\n",
       "      <td>1.0</td>\n",
       "      <td>1.00</td>\n",
       "      <td>0.03</td>\n",
       "      <td>0.05</td>\n",
       "    </tr>\n",
       "    <tr>\n",
       "      <th>5</th>\n",
       "      <td>colorado</td>\n",
       "      <td>1.0</td>\n",
       "      <td>0.30</td>\n",
       "      <td>0.11</td>\n",
       "      <td>1.00</td>\n",
       "    </tr>\n",
       "    <tr>\n",
       "      <th>17</th>\n",
       "      <td>kentucky</td>\n",
       "      <td>1.0</td>\n",
       "      <td>1.00</td>\n",
       "      <td>0.04</td>\n",
       "      <td>0.04</td>\n",
       "    </tr>\n",
       "    <tr>\n",
       "      <th>18</th>\n",
       "      <td>louisiana</td>\n",
       "      <td>1.0</td>\n",
       "      <td>1.00</td>\n",
       "      <td>0.04</td>\n",
       "      <td>0.04</td>\n",
       "    </tr>\n",
       "    <tr>\n",
       "      <th>23</th>\n",
       "      <td>minnesota</td>\n",
       "      <td>1.0</td>\n",
       "      <td>0.99</td>\n",
       "      <td>0.03</td>\n",
       "      <td>0.04</td>\n",
       "    </tr>\n",
       "    <tr>\n",
       "      <th>24</th>\n",
       "      <td>mississippi</td>\n",
       "      <td>1.0</td>\n",
       "      <td>1.00</td>\n",
       "      <td>0.02</td>\n",
       "      <td>0.03</td>\n",
       "    </tr>\n",
       "    <tr>\n",
       "      <th>25</th>\n",
       "      <td>missouri</td>\n",
       "      <td>1.0</td>\n",
       "      <td>1.00</td>\n",
       "      <td>0.03</td>\n",
       "      <td>0.04</td>\n",
       "    </tr>\n",
       "    <tr>\n",
       "      <th>26</th>\n",
       "      <td>montana</td>\n",
       "      <td>1.0</td>\n",
       "      <td>1.00</td>\n",
       "      <td>0.10</td>\n",
       "      <td>0.10</td>\n",
       "    </tr>\n",
       "    <tr>\n",
       "      <th>28</th>\n",
       "      <td>nevada</td>\n",
       "      <td>1.0</td>\n",
       "      <td>1.00</td>\n",
       "      <td>0.26</td>\n",
       "      <td>0.23</td>\n",
       "    </tr>\n",
       "    <tr>\n",
       "      <th>33</th>\n",
       "      <td>north carolina</td>\n",
       "      <td>1.0</td>\n",
       "      <td>1.00</td>\n",
       "      <td>0.49</td>\n",
       "      <td>0.52</td>\n",
       "    </tr>\n",
       "    <tr>\n",
       "      <th>36</th>\n",
       "      <td>oklahoma</td>\n",
       "      <td>1.0</td>\n",
       "      <td>1.00</td>\n",
       "      <td>0.07</td>\n",
       "      <td>0.08</td>\n",
       "    </tr>\n",
       "    <tr>\n",
       "      <th>40</th>\n",
       "      <td>south carolina</td>\n",
       "      <td>1.0</td>\n",
       "      <td>1.00</td>\n",
       "      <td>0.50</td>\n",
       "      <td>0.55</td>\n",
       "    </tr>\n",
       "    <tr>\n",
       "      <th>42</th>\n",
       "      <td>tennessee</td>\n",
       "      <td>1.0</td>\n",
       "      <td>1.00</td>\n",
       "      <td>0.05</td>\n",
       "      <td>0.06</td>\n",
       "    </tr>\n",
       "    <tr>\n",
       "      <th>44</th>\n",
       "      <td>utah</td>\n",
       "      <td>1.0</td>\n",
       "      <td>1.00</td>\n",
       "      <td>0.03</td>\n",
       "      <td>0.04</td>\n",
       "    </tr>\n",
       "    <tr>\n",
       "      <th>49</th>\n",
       "      <td>wisconsin</td>\n",
       "      <td>1.0</td>\n",
       "      <td>1.00</td>\n",
       "      <td>0.03</td>\n",
       "      <td>0.03</td>\n",
       "    </tr>\n",
       "    <tr>\n",
       "      <th>50</th>\n",
       "      <td>wyoming</td>\n",
       "      <td>1.0</td>\n",
       "      <td>1.00</td>\n",
       "      <td>0.03</td>\n",
       "      <td>0.03</td>\n",
       "    </tr>\n",
       "  </tbody>\n",
       "</table>\n",
       "</div>"
      ],
      "text/plain": [
       "             state  act_participation_2017  act_participation_2018  \\\n",
       "0          alabama                     1.0                    1.00   \n",
       "3         arkansas                     1.0                    1.00   \n",
       "5         colorado                     1.0                    0.30   \n",
       "17        kentucky                     1.0                    1.00   \n",
       "18       louisiana                     1.0                    1.00   \n",
       "23       minnesota                     1.0                    0.99   \n",
       "24     mississippi                     1.0                    1.00   \n",
       "25        missouri                     1.0                    1.00   \n",
       "26         montana                     1.0                    1.00   \n",
       "28          nevada                     1.0                    1.00   \n",
       "33  north carolina                     1.0                    1.00   \n",
       "36        oklahoma                     1.0                    1.00   \n",
       "40  south carolina                     1.0                    1.00   \n",
       "42       tennessee                     1.0                    1.00   \n",
       "44            utah                     1.0                    1.00   \n",
       "49       wisconsin                     1.0                    1.00   \n",
       "50         wyoming                     1.0                    1.00   \n",
       "\n",
       "    sat_participation_2017  sat_participation_2018  \n",
       "0                     0.05                    0.06  \n",
       "3                     0.03                    0.05  \n",
       "5                     0.11                    1.00  \n",
       "17                    0.04                    0.04  \n",
       "18                    0.04                    0.04  \n",
       "23                    0.03                    0.04  \n",
       "24                    0.02                    0.03  \n",
       "25                    0.03                    0.04  \n",
       "26                    0.10                    0.10  \n",
       "28                    0.26                    0.23  \n",
       "33                    0.49                    0.52  \n",
       "36                    0.07                    0.08  \n",
       "40                    0.50                    0.55  \n",
       "42                    0.05                    0.06  \n",
       "44                    0.03                    0.04  \n",
       "49                    0.03                    0.03  \n",
       "50                    0.03                    0.03  "
      ]
     },
     "execution_count": 49,
     "metadata": {},
     "output_type": "execute_result"
    }
   ],
   "source": [
    "#Do any states with 100% participation on a given test have a rate change year-to-year?\n",
    "\n",
    "# subset act 100% particpation states\n",
    "\n",
    "act_part100_2017 = final[(final['act_participation_2017'] == 1.00)]\n",
    "\n",
    "# rejig the index to look across participation and drop the rest\n",
    "act_part100_2017 = act_part100_2017[['state','act_participation_2017','act_participation_2018','sat_participation_2017','sat_participation_2018']]\n",
    "\n",
    "## colorado from act 100% drop to 30%, then sat participation increase from 11% to 100%\n",
    "act_part100_2017\n",
    "\n",
    "#print(len(final[(final['act_participation_2018'] == 1.00)]))\n",
    "#17 states with ACT participation = 1 for 2017 and 2018"
   ]
  },
  {
   "cell_type": "code",
   "execution_count": 50,
   "metadata": {},
   "outputs": [
    {
     "data": {
      "text/html": [
       "<div>\n",
       "<style scoped>\n",
       "    .dataframe tbody tr th:only-of-type {\n",
       "        vertical-align: middle;\n",
       "    }\n",
       "\n",
       "    .dataframe tbody tr th {\n",
       "        vertical-align: top;\n",
       "    }\n",
       "\n",
       "    .dataframe thead th {\n",
       "        text-align: right;\n",
       "    }\n",
       "</style>\n",
       "<table border=\"1\" class=\"dataframe\">\n",
       "  <thead>\n",
       "    <tr style=\"text-align: right;\">\n",
       "      <th></th>\n",
       "      <th>state</th>\n",
       "      <th>sat_participation_2017</th>\n",
       "      <th>sat_participation_2018</th>\n",
       "      <th>act_participation_2017</th>\n",
       "      <th>act_participation_2018</th>\n",
       "    </tr>\n",
       "  </thead>\n",
       "  <tbody>\n",
       "    <tr>\n",
       "      <th>6</th>\n",
       "      <td>connecticut</td>\n",
       "      <td>1.0</td>\n",
       "      <td>1.00</td>\n",
       "      <td>0.31</td>\n",
       "      <td>0.26</td>\n",
       "    </tr>\n",
       "    <tr>\n",
       "      <th>7</th>\n",
       "      <td>delaware</td>\n",
       "      <td>1.0</td>\n",
       "      <td>1.00</td>\n",
       "      <td>0.18</td>\n",
       "      <td>0.17</td>\n",
       "    </tr>\n",
       "    <tr>\n",
       "      <th>8</th>\n",
       "      <td>district of columbia</td>\n",
       "      <td>1.0</td>\n",
       "      <td>0.92</td>\n",
       "      <td>0.32</td>\n",
       "      <td>0.32</td>\n",
       "    </tr>\n",
       "    <tr>\n",
       "      <th>22</th>\n",
       "      <td>michigan</td>\n",
       "      <td>1.0</td>\n",
       "      <td>1.00</td>\n",
       "      <td>0.29</td>\n",
       "      <td>0.22</td>\n",
       "    </tr>\n",
       "  </tbody>\n",
       "</table>\n",
       "</div>"
      ],
      "text/plain": [
       "                   state  sat_participation_2017  sat_participation_2018  \\\n",
       "6            connecticut                     1.0                    1.00   \n",
       "7               delaware                     1.0                    1.00   \n",
       "8   district of columbia                     1.0                    0.92   \n",
       "22              michigan                     1.0                    1.00   \n",
       "\n",
       "    act_participation_2017  act_participation_2018  \n",
       "6                     0.31                    0.26  \n",
       "7                     0.18                    0.17  \n",
       "8                     0.32                    0.32  \n",
       "22                    0.29                    0.22  "
      ]
     },
     "execution_count": 50,
     "metadata": {},
     "output_type": "execute_result"
    }
   ],
   "source": [
    "#Do any states with 100% participation on a given test have a rate change year-to-year?\n",
    "# looking at sat 100% particpation changes\n",
    "\n",
    "sat_part100_2017 = final[(final['sat_participation_2017'] == 1.00)]\n",
    "\n",
    "# rejig the index to look across participation and drop the rest\n",
    "sat_part100_2017 = sat_part100_2017[['state','sat_participation_2017','sat_participation_2018','act_participation_2017','act_participation_2018']]\n",
    "\n",
    "sat_part100_2017\n",
    "#sat only 4 state with 100%"
   ]
  },
  {
   "cell_type": "code",
   "execution_count": 51,
   "metadata": {},
   "outputs": [
    {
     "data": {
      "text/html": [
       "<div>\n",
       "<style scoped>\n",
       "    .dataframe tbody tr th:only-of-type {\n",
       "        vertical-align: middle;\n",
       "    }\n",
       "\n",
       "    .dataframe tbody tr th {\n",
       "        vertical-align: top;\n",
       "    }\n",
       "\n",
       "    .dataframe thead th {\n",
       "        text-align: right;\n",
       "    }\n",
       "</style>\n",
       "<table border=\"1\" class=\"dataframe\">\n",
       "  <thead>\n",
       "    <tr style=\"text-align: right;\">\n",
       "      <th></th>\n",
       "      <th>state</th>\n",
       "      <th>sat_participation_2017</th>\n",
       "      <th>sat_participation_2018</th>\n",
       "      <th>act_participation_2017</th>\n",
       "      <th>act_participation_2018</th>\n",
       "    </tr>\n",
       "  </thead>\n",
       "  <tbody>\n",
       "    <tr>\n",
       "      <th>9</th>\n",
       "      <td>florida</td>\n",
       "      <td>0.83</td>\n",
       "      <td>0.56</td>\n",
       "      <td>0.73</td>\n",
       "      <td>0.66</td>\n",
       "    </tr>\n",
       "    <tr>\n",
       "      <th>10</th>\n",
       "      <td>georgia</td>\n",
       "      <td>0.61</td>\n",
       "      <td>0.70</td>\n",
       "      <td>0.55</td>\n",
       "      <td>0.53</td>\n",
       "    </tr>\n",
       "    <tr>\n",
       "      <th>11</th>\n",
       "      <td>hawaii</td>\n",
       "      <td>0.55</td>\n",
       "      <td>0.56</td>\n",
       "      <td>0.90</td>\n",
       "      <td>0.89</td>\n",
       "    </tr>\n",
       "    <tr>\n",
       "      <th>33</th>\n",
       "      <td>north carolina</td>\n",
       "      <td>0.49</td>\n",
       "      <td>0.52</td>\n",
       "      <td>1.00</td>\n",
       "      <td>1.00</td>\n",
       "    </tr>\n",
       "    <tr>\n",
       "      <th>40</th>\n",
       "      <td>south carolina</td>\n",
       "      <td>0.50</td>\n",
       "      <td>0.55</td>\n",
       "      <td>1.00</td>\n",
       "      <td>1.00</td>\n",
       "    </tr>\n",
       "  </tbody>\n",
       "</table>\n",
       "</div>"
      ],
      "text/plain": [
       "             state  sat_participation_2017  sat_participation_2018  \\\n",
       "9          florida                    0.83                    0.56   \n",
       "10         georgia                    0.61                    0.70   \n",
       "11          hawaii                    0.55                    0.56   \n",
       "33  north carolina                    0.49                    0.52   \n",
       "40  south carolina                    0.50                    0.55   \n",
       "\n",
       "    act_participation_2017  act_participation_2018  \n",
       "9                     0.73                    0.66  \n",
       "10                    0.55                    0.53  \n",
       "11                    0.90                    0.89  \n",
       "33                    1.00                    1.00  \n",
       "40                    1.00                    1.00  "
      ]
     },
     "execution_count": 51,
     "metadata": {},
     "output_type": "execute_result"
    }
   ],
   "source": [
    "#Do any states show have >50% participation on both tests either year?\n",
    "\n",
    "part = final[['state','sat_participation_2017','sat_participation_2018','act_participation_2017','act_participation_2018']]\n",
    "\n",
    "part[((part['sat_participation_2017']>0.5) & (part['act_participation_2017']>0.5)) | ((part['sat_participation_2018']>0.5) & (part['act_participation_2018']>0.5)) ]\n",
    "\n"
   ]
  },
  {
   "cell_type": "markdown",
   "metadata": {},
   "source": [
    "## Visualize the data\n",
    "\n",
    "There's not a magic bullet recommendation for the right number of plots to understand a given dataset, but visualizing your data is *always* a good idea. Not only does it allow you to quickly convey your findings (even if you have a non-technical audience), it will often reveal trends in your data that escaped you when you were looking only at numbers.\n",
    "\n",
    "Some recommendations on plotting:\n",
    "- Plots have titles\n",
    "- Plots have axis labels\n",
    "- Plots have appropriate tick labels\n",
    "- All text is legible in a plot\n",
    "- Plots demonstrate meaningful and valid relationships\n",
    "- Plots are interpreted to aid understanding\n",
    "\n",
    "There is such a thing as too many plots, and there are a *lot* of bad plots. You might make some! (But hopefully not with the guided prompts below)."
   ]
  },
  {
   "cell_type": "markdown",
   "metadata": {},
   "source": [
    "#### Use Seaborn's heatmap with pandas `.corr()` to visualize correlations between all numeric features\n",
    "\n",
    "Heatmaps are generally not appropriate for presentations, and should often be excluded from reports as they can be visually overwhelming. **However**, they can be extremely useful in identify relationships of potential interest (as well as identifying potential collinearity before modeling).\n",
    "\n",
    "*example*:\n",
    "```python\n",
    "sns.heatmap(df.corr())\n",
    "```\n",
    "\n",
    "Please take time to format your output, adding a title. Look through some of the additional arguments and options. (Axis labels aren't really necessary, as long as the title is informative)."
   ]
  },
  {
   "cell_type": "code",
   "execution_count": 52,
   "metadata": {},
   "outputs": [
    {
     "data": {
      "image/png": "[encoded data removed]",
      "text/plain": [
       "<Figure size 1152x576 with 2 Axes>"
      ]
     },
     "metadata": {
      "needs_background": "light"
     },
     "output_type": "display_data"
    }
   ],
   "source": [
    "plt.figure(figsize = (16,8))\n",
    "mask = np.zeros_like(final.corr())\n",
    "mask[np.triu_indices_from(mask)] = True\n",
    "\n",
    "ax = sns.heatmap(final.corr(),annot=True, mask=mask, cmap='coolwarm')\n",
    "ax.set_title('Correlation heatmap of numeric features',fontsize=24)\n",
    "plt.savefig('corr.png')"
   ]
  },
  {
   "cell_type": "markdown",
   "metadata": {},
   "source": [
    "#### Define a custom function to subplot histograms\n",
    "\n",
    "We have data for two tests for two years. We only have composite (and not subtest scores) for the 2018 ACT. We should write a function that will take the names of 2+ columns and subplot histograms. While you can use pandas plotting or Seaborn here, matplotlib gives you greater control over all aspects of your plots.\n",
    "\n",
    "[Helpful Link for Plotting Multiple Figures](https://matplotlib.org/users/pyplot_tutorial.html#working-with-multiple-figures-and-axes)\n",
    "\n",
    "Here's some starter code:"
   ]
  },
  {
   "cell_type": "code",
   "execution_count": 53,
   "metadata": {},
   "outputs": [],
   "source": [
    "def subplot_histograms(dataframe, list_of_columns): #list_of_titles, list_of_xlabels):\n",
    "    nrows = int(np.ceil(len(list_of_columns)/2)) # Makes sure you have enough rows\n",
    "    fig, ax = plt.subplots(nrows=nrows, ncols=2,figsize=(15,10)) # You'll want to specify your figsize\n",
    "    ax = ax.ravel() # Ravel turns a matrix into a vector, which is easier to iterate\n",
    "    for i, column in enumerate(list_of_columns): # Gives us an index value to get into all our lists\n",
    "        ax[i].hist(dataframe[column],bins=10) # feel free to add more settings\n",
    "        ax[i].set_xlabel(column)\n",
    "        ax[i].set_ylabel('frequency')\n",
    "        ax[i].set_title('Histogram of ' + column + ' scores across states')# Set titles, labels, etc here for each subplot"
   ]
  },
  {
   "cell_type": "markdown",
   "metadata": {},
   "source": [
    "#### Plot and interpret histograms \n",
    "For each of the following:\n",
    "- Participation rates for SAT & ACT\n",
    "- Math scores for SAT & ACT\n",
    "- Reading/verbal scores for SAT & ACT"
   ]
  },
  {
   "cell_type": "code",
   "execution_count": 54,
   "metadata": {},
   "outputs": [
    {
     "data": {
      "image/png": "[encoded data removed]",
      "text/plain": [
       "<Figure size 1080x720 with 4 Axes>"
      ]
     },
     "metadata": {
      "needs_background": "light"
     },
     "output_type": "display_data"
    }
   ],
   "source": [
    "# Code\n",
    "subplot_histograms(final,['act_participation_2017','act_participation_2018',\n",
    "                          'sat_participation_2017','sat_participation_2018' ])\n",
    "plt.savefig('histogramofpart.png')"
   ]
  },
  {
   "cell_type": "code",
   "execution_count": 55,
   "metadata": {},
   "outputs": [
    {
     "data": {
      "image/png": "[encoded data removed]",
      "text/plain": [
       "<Figure size 1080x720 with 4 Axes>"
      ]
     },
     "metadata": {
      "needs_background": "light"
     },
     "output_type": "display_data"
    }
   ],
   "source": [
    "subplot_histograms(final,['act_math_2017', 'act_math_2018','sat_math_2017', 'sat_math_2018'])"
   ]
  },
  {
   "cell_type": "code",
   "execution_count": 56,
   "metadata": {},
   "outputs": [
    {
     "data": {
      "image/png": "[encoded data removed]",
      "text/plain": [
       "<Figure size 1080x720 with 4 Axes>"
      ]
     },
     "metadata": {
      "needs_background": "light"
     },
     "output_type": "display_data"
    }
   ],
   "source": [
    "subplot_histograms(final,['act_reading_2017', 'act_reading_2018','sat_readwrite_2017', 'sat_readwrite_2018'])"
   ]
  },
  {
   "cell_type": "markdown",
   "metadata": {},
   "source": [
    "#### Plot and interpret scatter plots\n",
    "\n",
    "For each of the following:\n",
    "- SAT vs. ACT math scores for 2017\n",
    "- SAT vs. ACT verbal/reading scores for 2017\n",
    "- SAT vs. ACT total/composite scores for 2017\n",
    "- Total scores for SAT 2017 vs. 2018\n",
    "- Composite scores for ACT 2017 vs. 2018\n",
    "\n",
    "Plot the two variables against each other using matplotlib or Seaborn\n",
    "\n",
    "Your plots should show:\n",
    "- Two clearly labeled axes\n",
    "- A proper title\n",
    "- Using colors and symbols that are clear and unmistakable\n",
    "\n",
    "**Feel free to write a custom function, and subplot if you'd like.** Functions save both time and space.\n"
   ]
  },
  {
   "cell_type": "code",
   "execution_count": 57,
   "metadata": {},
   "outputs": [
    {
     "data": {
      "image/png": "[encoded data removed]",
      "text/plain": [
       "<Figure size 432x288 with 1 Axes>"
      ]
     },
     "metadata": {
      "needs_background": "light"
     },
     "output_type": "display_data"
    }
   ],
   "source": [
    "#SAT vs. ACT math scores for 2017\n",
    "def plotscatter(dataframe,xdata,ydata):\n",
    "    plt.scatter(dataframe[xdata], dataframe[ydata], color='dodgerblue')\n",
    "    plt.plot(np.unique(dataframe[xdata]), np.poly1d(np.polyfit(dataframe[xdata], dataframe[ydata], 1))(np.unique(dataframe[xdata])), 'r--')\n",
    "    plt.title('scatterplot of ' + xdata + \" & \" + ydata)\n",
    "    plt.xlabel(xdata)\n",
    "    plt.ylabel(ydata)\n",
    "    \n",
    "plotscatter(final,'sat_math_2017','act_math_2017')"
   ]
  },
  {
   "cell_type": "code",
   "execution_count": 58,
   "metadata": {},
   "outputs": [
    {
     "data": {
      "image/png": "[encoded data removed]",
      "text/plain": [
       "<Figure size 432x288 with 1 Axes>"
      ]
     },
     "metadata": {
      "needs_background": "light"
     },
     "output_type": "display_data"
    }
   ],
   "source": [
    "#SAT vs. ACT verbal/reading scores for 2017\n",
    "plotscatter(final,'sat_readwrite_2017','act_reading_2017')"
   ]
  },
  {
   "cell_type": "code",
   "execution_count": 59,
   "metadata": {},
   "outputs": [
    {
     "data": {
      "image/png": "[encoded data removed]",
      "text/plain": [
       "<Figure size 432x288 with 1 Axes>"
      ]
     },
     "metadata": {
      "needs_background": "light"
     },
     "output_type": "display_data"
    }
   ],
   "source": [
    "#SAT vs. ACT total scores for 2017\n",
    "plotscatter(final,'sat_total_2017','act_total_2017')"
   ]
  },
  {
   "cell_type": "code",
   "execution_count": 60,
   "metadata": {},
   "outputs": [
    {
     "data": {
      "image/png": "[encoded data removed]",
      "text/plain": [
       "<Figure size 432x288 with 1 Axes>"
      ]
     },
     "metadata": {
      "needs_background": "light"
     },
     "output_type": "display_data"
    }
   ],
   "source": [
    "#ACT total scores for 2017/2018\n",
    "plotscatter(final,'act_total_2017','act_total_2018')"
   ]
  },
  {
   "cell_type": "markdown",
   "metadata": {},
   "source": [
    "#### Plot and interpret boxplots\n",
    "\n",
    "For each numeric variable in the dataframe create a boxplot using Seaborn. Boxplots demonstrate central tendency and spread in variables. In a certain sense, these are somewhat redundant with histograms, but you may be better able to identify clear outliers or differences in IQR, etc.\n",
    "\n",
    "Multiple values can be plotted to a single boxplot as long as they are of the same relative scale (meaning they have similar min/max values).\n",
    "\n",
    "Each boxplot should:\n",
    "- Only include variables of a similar scale\n",
    "- Have clear labels for each variable\n",
    "- Have appropriate titles and labels"
   ]
  },
  {
   "cell_type": "code",
   "execution_count": 61,
   "metadata": {},
   "outputs": [
    {
     "data": {
      "image/png": "[encoded data removed]",
      "text/plain": [
       "<Figure size 576x432 with 1 Axes>"
      ]
     },
     "metadata": {
      "needs_background": "light"
     },
     "output_type": "display_data"
    }
   ],
   "source": [
    "# Code\n",
    "\n",
    "finalforbox = final[['act_participation_2017','act_participation_2018',\n",
    "               'sat_participation_2017','sat_participation_2018',\n",
    "               'act_english_2017','act_english_2018',\n",
    "               'act_math_2017','act_math_2018',\n",
    "               'act_reading_2017','act_reading_2018',\n",
    "               'act_science_2017','act_science_2018',\n",
    "               'act_total_2017','act_total_2018',\n",
    "               'sat_readwrite_2017','sat_readwrite_2018',\n",
    "               'sat_math_2017','sat_math_2018',\n",
    "               'sat_total_2017','sat_total_2018']]\n",
    "\n",
    "plt.figure(figsize = (8,6))\n",
    "plt.title(\"Boxplot of participation rates \\nbetween tests across time across states\")\n",
    "plt.ylabel(\"Participation rate 1.0=100%\")\n",
    "plt.xlabel(\"Test / Year\") \n",
    "g = sns.boxplot(data=finalforbox.iloc[:,:4],width=0.5)\n",
    "g.set_xticklabels(labels=['ACT 2018','ACT 2018','SAT 2017','SAT 2018'], rotation=45)\n",
    "plt.savefig('boxplotofparticipationrate.png')"
   ]
  },
  {
   "cell_type": "code",
   "execution_count": 62,
   "metadata": {},
   "outputs": [
    {
     "data": {
      "text/plain": [
       "[Text(0, 0, 'eng_2017'),\n",
       " Text(0, 0, 'eng_2018'),\n",
       " Text(0, 0, 'math_2017'),\n",
       " Text(0, 0, 'math_2018'),\n",
       " Text(0, 0, 'read_2017'),\n",
       " Text(0, 0, 'read_2018'),\n",
       " Text(0, 0, 'science_2017'),\n",
       " Text(0, 0, 'science_2018'),\n",
       " Text(0, 0, 'total_2017'),\n",
       " Text(0, 0, 'total_2018')]"
      ]
     },
     "execution_count": 62,
     "metadata": {},
     "output_type": "execute_result"
    },
    {
     "data": {
      "image/png": "[encoded data removed]",
      "text/plain": [
       "<Figure size 936x432 with 1 Axes>"
      ]
     },
     "metadata": {
      "needs_background": "light"
     },
     "output_type": "display_data"
    }
   ],
   "source": [
    "plt.figure(figsize = (13,6))\n",
    "plt.title(\"Boxplot of ACT subjects scores across time\")\n",
    "plt.ylabel(\"Score\")\n",
    "plt.xlabel(\"ACT subject / Year\")\n",
    "g1= sns.boxplot(data=finalforbox.iloc[:,4:14])\n",
    "g1.set_xticklabels(labels=['eng_2017','eng_2018',\n",
    "                        'math_2017','math_2018',\n",
    "                        'read_2017','read_2018',\n",
    "                        'science_2017','science_2018',\n",
    "                        'total_2017','total_2018',], rotation=45)"
   ]
  },
  {
   "cell_type": "code",
   "execution_count": 82,
   "metadata": {},
   "outputs": [
    {
     "data": {
      "text/plain": [
       "[Text(0, 0, 'readwrite_2017'),\n",
       " Text(0, 0, 'readwrite_2018'),\n",
       " Text(0, 0, 'math_2017'),\n",
       " Text(0, 0, 'math_2018')]"
      ]
     },
     "execution_count": 82,
     "metadata": {},
     "output_type": "execute_result"
    },
    {
     "data": {
      "image/png": "[encoded data removed]",
      "text/plain": [
       "<Figure size 288x288 with 1 Axes>"
      ]
     },
     "metadata": {
      "needs_background": "light"
     },
     "output_type": "display_data"
    }
   ],
   "source": [
    "plt.figure(figsize = (4,4))\n",
    "plt.title(\"Boxplot of SAT subjects scores across time\")\n",
    "plt.ylabel(\"Score\")\n",
    "plt.xlabel(\"SAT subject / Year\")\n",
    "g2 = sns.boxplot(data=finalforbox.iloc[:,14:18])\n",
    "g2.set_xticklabels(labels=['readwrite_2017','readwrite_2018',\n",
    "               'math_2017','math_2018',], rotation=45)"
   ]
  },
  {
   "cell_type": "code",
   "execution_count": 64,
   "metadata": {},
   "outputs": [
    {
     "data": {
      "text/plain": [
       "[Text(0, 0, 'total_2017'), Text(0, 0, 'total_2018')]"
      ]
     },
     "execution_count": 64,
     "metadata": {},
     "output_type": "execute_result"
    },
    {
     "data": {
      "image/png": "[encoded data removed]",
      "text/plain": [
       "<Figure size 576x576 with 1 Axes>"
      ]
     },
     "metadata": {
      "needs_background": "light"
     },
     "output_type": "display_data"
    }
   ],
   "source": [
    "plt.figure(figsize = (8,8))\n",
    "plt.title(\"Boxplot of SAT total scores across time\")\n",
    "plt.ylabel(\"Score\")\n",
    "plt.xlabel(\"SAT subject / Year\")\n",
    "g3 = sns.boxplot(data=finalforbox.iloc[:,18:20])\n",
    "g3.set_xticklabels(labels=['total_2017','total_2018'],rotation=45)"
   ]
  },
  {
   "cell_type": "markdown",
   "metadata": {},
   "source": [
    "#### Feel free to do additional plots below\n",
    "*(do research and choose your own chart types & variables)*\n",
    "\n",
    "Are there any additional trends or relationships you haven't explored? Was there something interesting you saw that you'd like to dive further into? It's likely that there are a few more plots you might want to generate to support your narrative and recommendations that you are building toward. **As always, make sure you're interpreting your plots as you go**."
   ]
  },
  {
   "cell_type": "code",
   "execution_count": 65,
   "metadata": {},
   "outputs": [
    {
     "data": {
      "text/html": [
       "<div>\n",
       "<style scoped>\n",
       "    .dataframe tbody tr th:only-of-type {\n",
       "        vertical-align: middle;\n",
       "    }\n",
       "\n",
       "    .dataframe tbody tr th {\n",
       "        vertical-align: top;\n",
       "    }\n",
       "\n",
       "    .dataframe thead th {\n",
       "        text-align: right;\n",
       "    }\n",
       "</style>\n",
       "<table border=\"1\" class=\"dataframe\">\n",
       "  <thead>\n",
       "    <tr style=\"text-align: right;\">\n",
       "      <th></th>\n",
       "      <th>state</th>\n",
       "      <th>act_participation_yoy</th>\n",
       "    </tr>\n",
       "  </thead>\n",
       "  <tbody>\n",
       "    <tr>\n",
       "      <th>35</th>\n",
       "      <td>ohio</td>\n",
       "      <td>0.25</td>\n",
       "    </tr>\n",
       "    <tr>\n",
       "      <th>27</th>\n",
       "      <td>nebraska</td>\n",
       "      <td>0.16</td>\n",
       "    </tr>\n",
       "    <tr>\n",
       "      <th>39</th>\n",
       "      <td>rhode island</td>\n",
       "      <td>-0.06</td>\n",
       "    </tr>\n",
       "    <tr>\n",
       "      <th>9</th>\n",
       "      <td>florida</td>\n",
       "      <td>-0.07</td>\n",
       "    </tr>\n",
       "    <tr>\n",
       "      <th>22</th>\n",
       "      <td>michigan</td>\n",
       "      <td>-0.07</td>\n",
       "    </tr>\n",
       "    <tr>\n",
       "      <th>1</th>\n",
       "      <td>alaska</td>\n",
       "      <td>-0.32</td>\n",
       "    </tr>\n",
       "    <tr>\n",
       "      <th>13</th>\n",
       "      <td>illinois</td>\n",
       "      <td>-0.50</td>\n",
       "    </tr>\n",
       "    <tr>\n",
       "      <th>5</th>\n",
       "      <td>colorado</td>\n",
       "      <td>-0.70</td>\n",
       "    </tr>\n",
       "  </tbody>\n",
       "</table>\n",
       "</div>"
      ],
      "text/plain": [
       "           state  act_participation_yoy\n",
       "35          ohio                   0.25\n",
       "27      nebraska                   0.16\n",
       "39  rhode island                  -0.06\n",
       "9        florida                  -0.07\n",
       "22      michigan                  -0.07\n",
       "1         alaska                  -0.32\n",
       "13      illinois                  -0.50\n",
       "5       colorado                  -0.70"
      ]
     },
     "execution_count": 65,
     "metadata": {},
     "output_type": "execute_result"
    }
   ],
   "source": [
    "# use an absolute chng in the participation rate\n",
    "final['act_participation_yoy'] = final['act_participation_2018'] - final['act_participation_2017']\n",
    "act5pct = final[(final['act_participation_yoy']>0.05) | (final['act_participation_yoy']<-0.05)]\n",
    "act5pct[['state','act_participation_yoy']].sort_values(['act_participation_yoy'],ascending=False)"
   ]
  },
  {
   "cell_type": "code",
   "execution_count": 66,
   "metadata": {},
   "outputs": [
    {
     "data": {
      "image/png": "[encoded data removed]",
      "text/plain": [
       "<Figure size 576x576 with 1 Axes>"
      ]
     },
     "metadata": {
      "needs_background": "light"
     },
     "output_type": "display_data"
    }
   ],
   "source": [
    "# a picture tells a thousand word, better for ppt\n",
    "plt.figure(figsize = (8,8))\n",
    "plt.title(\"absolute chg in participation rate yoy in states (>5%)\")\n",
    "plt.ylabel(\"state\")\n",
    "plt.xlabel(\"absolute chg in participation rate in ACT\")\n",
    "plt.barh(act5pct['state'],act5pct['act_participation_yoy'])\n",
    "plt.savefig('ACTchangepart.png')"
   ]
  },
  {
   "cell_type": "code",
   "execution_count": 67,
   "metadata": {},
   "outputs": [
    {
     "data": {
      "text/html": [
       "<div>\n",
       "<style scoped>\n",
       "    .dataframe tbody tr th:only-of-type {\n",
       "        vertical-align: middle;\n",
       "    }\n",
       "\n",
       "    .dataframe tbody tr th {\n",
       "        vertical-align: top;\n",
       "    }\n",
       "\n",
       "    .dataframe thead th {\n",
       "        text-align: right;\n",
       "    }\n",
       "</style>\n",
       "<table border=\"1\" class=\"dataframe\">\n",
       "  <thead>\n",
       "    <tr style=\"text-align: right;\">\n",
       "      <th></th>\n",
       "      <th>state</th>\n",
       "      <th>sat_participation_yoy</th>\n",
       "    </tr>\n",
       "  </thead>\n",
       "  <tbody>\n",
       "    <tr>\n",
       "      <th>13</th>\n",
       "      <td>illinois</td>\n",
       "      <td>0.90</td>\n",
       "    </tr>\n",
       "    <tr>\n",
       "      <th>5</th>\n",
       "      <td>colorado</td>\n",
       "      <td>0.89</td>\n",
       "    </tr>\n",
       "    <tr>\n",
       "      <th>39</th>\n",
       "      <td>rhode island</td>\n",
       "      <td>0.26</td>\n",
       "    </tr>\n",
       "    <tr>\n",
       "      <th>48</th>\n",
       "      <td>west virginia</td>\n",
       "      <td>0.14</td>\n",
       "    </tr>\n",
       "    <tr>\n",
       "      <th>30</th>\n",
       "      <td>new jersey</td>\n",
       "      <td>0.12</td>\n",
       "    </tr>\n",
       "    <tr>\n",
       "      <th>32</th>\n",
       "      <td>new york</td>\n",
       "      <td>0.12</td>\n",
       "    </tr>\n",
       "    <tr>\n",
       "      <th>10</th>\n",
       "      <td>georgia</td>\n",
       "      <td>0.09</td>\n",
       "    </tr>\n",
       "    <tr>\n",
       "      <th>20</th>\n",
       "      <td>maryland</td>\n",
       "      <td>0.07</td>\n",
       "    </tr>\n",
       "    <tr>\n",
       "      <th>4</th>\n",
       "      <td>california</td>\n",
       "      <td>0.07</td>\n",
       "    </tr>\n",
       "    <tr>\n",
       "      <th>12</th>\n",
       "      <td>idaho</td>\n",
       "      <td>0.07</td>\n",
       "    </tr>\n",
       "    <tr>\n",
       "      <th>35</th>\n",
       "      <td>ohio</td>\n",
       "      <td>0.06</td>\n",
       "    </tr>\n",
       "    <tr>\n",
       "      <th>40</th>\n",
       "      <td>south carolina</td>\n",
       "      <td>0.05</td>\n",
       "    </tr>\n",
       "    <tr>\n",
       "      <th>8</th>\n",
       "      <td>district of columbia</td>\n",
       "      <td>-0.08</td>\n",
       "    </tr>\n",
       "    <tr>\n",
       "      <th>9</th>\n",
       "      <td>florida</td>\n",
       "      <td>-0.27</td>\n",
       "    </tr>\n",
       "  </tbody>\n",
       "</table>\n",
       "</div>"
      ],
      "text/plain": [
       "                   state  sat_participation_yoy\n",
       "13              illinois                   0.90\n",
       "5               colorado                   0.89\n",
       "39          rhode island                   0.26\n",
       "48         west virginia                   0.14\n",
       "30            new jersey                   0.12\n",
       "32              new york                   0.12\n",
       "10               georgia                   0.09\n",
       "20              maryland                   0.07\n",
       "4             california                   0.07\n",
       "12                 idaho                   0.07\n",
       "35                  ohio                   0.06\n",
       "40        south carolina                   0.05\n",
       "8   district of columbia                  -0.08\n",
       "9                florida                  -0.27"
      ]
     },
     "execution_count": 67,
     "metadata": {},
     "output_type": "execute_result"
    }
   ],
   "source": [
    "# use an absolute chng in the participation rate for SAT\n",
    "final['sat_participation_yoy'] = final['sat_participation_2018'] - final['sat_participation_2017']\n",
    "sat5pct = final[(final['sat_participation_yoy']>0.05) | (final['sat_participation_yoy']<-0.05)]\n",
    "sat5pct[['state','sat_participation_yoy']].sort_values(['sat_participation_yoy'],ascending=False)"
   ]
  },
  {
   "cell_type": "code",
   "execution_count": 68,
   "metadata": {},
   "outputs": [
    {
     "data": {
      "image/png": "[encoded data removed]",
      "text/plain": [
       "<Figure size 576x576 with 1 Axes>"
      ]
     },
     "metadata": {
      "needs_background": "light"
     },
     "output_type": "display_data"
    }
   ],
   "source": [
    "# pictorial\n",
    "plt.figure(figsize = (8,8))\n",
    "plt.title(\"absolute chg in participation rate yoy in states(>5%)\")\n",
    "plt.ylabel(\"state\")\n",
    "plt.xlabel(\"absolute chg in participation rate in SAT\")\n",
    "plt.barh(sat5pct['state'],sat5pct['sat_participation_yoy'])\n",
    "plt.savefig('SATchangepart.png')"
   ]
  },
  {
   "cell_type": "code",
   "execution_count": 84,
   "metadata": {},
   "outputs": [
    {
     "data": {
      "image/png": "[encoded data removed]",
      "text/plain": [
       "<Figure size 432x288 with 1 Axes>"
      ]
     },
     "metadata": {
      "needs_background": "light"
     },
     "output_type": "display_data"
    }
   ],
   "source": [
    "plotscatter(final,'sat_participation_2017','sat_total_2017')"
   ]
  },
  {
   "cell_type": "code",
   "execution_count": 85,
   "metadata": {},
   "outputs": [
    {
     "data": {
      "image/png": "[encoded data removed]",
      "text/plain": [
       "<Figure size 432x288 with 1 Axes>"
      ]
     },
     "metadata": {
      "needs_background": "light"
     },
     "output_type": "display_data"
    }
   ],
   "source": [
    "plotscatter(final,'sat_participation_2018','sat_total_2018')"
   ]
  },
  {
   "cell_type": "markdown",
   "metadata": {},
   "source": [
    "#### (Optional): Using Tableau, create a choropleth map for each variable using a map of the US. \n",
    "\n",
    "Save this plot as an image file in an images directory, provide a relative path, and insert the image into notebook in markdown."
   ]
  },
  {
   "cell_type": "markdown",
   "metadata": {},
   "source": [
    "* in the google slide"
   ]
  },
  {
   "cell_type": "markdown",
   "metadata": {},
   "source": [
    "## Descriptive and Inferential Statistics"
   ]
  },
  {
   "cell_type": "markdown",
   "metadata": {},
   "source": [
    "#### Summarizing Distributions\n",
    "\n",
    "Above, we used pandas `describe` to provide quick summary statistics of our numeric columns. We also demonstrated many visual relationships.\n",
    "\n",
    "As data scientists, having a complete understanding of data is imperative prior to modeling.\n",
    "\n",
    "While we will continue to build our analytic tools, we know that measures of *central tendency*, *spread*, and *shape/skewness* provide a quick summary of distributions.\n",
    "\n",
    "For each variable in your data, summarize the underlying distributions (in words & statistics)\n",
    " - Be thorough in your verbal description of these distributions.\n",
    " - Be sure to back up these summaries with statistics."
   ]
  },
  {
   "cell_type": "code",
   "execution_count": 69,
   "metadata": {},
   "outputs": [
    {
     "data": {
      "image/png": "[encoded data removed]",
      "text/plain": [
       "<Figure size 1080x720 with 4 Axes>"
      ]
     },
     "metadata": {
      "needs_background": "light"
     },
     "output_type": "display_data"
    }
   ],
   "source": [
    "subplot_histograms(final,['act_english_2017','act_english_2018',\n",
    "                          'act_science_2017','act_science_2018' ])"
   ]
  },
  {
   "cell_type": "code",
   "execution_count": 70,
   "metadata": {},
   "outputs": [
    {
     "data": {
      "image/png": "[encoded data removed]",
      "text/plain": [
       "<Figure size 1080x720 with 4 Axes>"
      ]
     },
     "metadata": {
      "needs_background": "light"
     },
     "output_type": "display_data"
    }
   ],
   "source": [
    "subplot_histograms(final,['act_total_2017','act_total_2018',\n",
    "                          'sat_total_2017','sat_total_2018' ])"
   ]
  },
  {
   "cell_type": "code",
   "execution_count": 71,
   "metadata": {},
   "outputs": [],
   "source": [
    "from scipy import stats"
   ]
  },
  {
   "cell_type": "code",
   "execution_count": 72,
   "metadata": {},
   "outputs": [
    {
     "name": "stdout",
     "output_type": "stream",
     "text": [
      "act_participation_2017 1.8018419611696658e-16\n",
      "act_english_2017 0.08434764489205682\n",
      "act_math_2017 0.03786805958606832\n",
      "act_reading_2017 0.04396683079879635\n",
      "act_science_2017 0.06388547443366324\n",
      "act_total_2017 0.03767739587231253\n",
      "sat_participation_2017 4.02894334576706e-06\n",
      "sat_readwrite_2017 0.0009986795076584\n",
      "sat_math_2017 0.056072998982864684\n",
      "sat_total_2017 0.008200230814088539\n",
      "act_participation_2018 1.1798576998139409e-31\n",
      "act_total_2018 0.012862760086159716\n",
      "act_english_2018 0.011118664949764285\n",
      "act_math_2018 0.008678423456739134\n",
      "act_reading_2018 0.009055804952130748\n",
      "act_science_2018 0.010625933240751445\n",
      "sat_participation_2018 3.739999415853542e-12\n",
      "sat_readwrite_2018 0.01822276093099164\n",
      "sat_math_2018 0.08866620599134843\n",
      "sat_total_2018 0.014558724804979849\n",
      "act_participation_yoy 4.159350701075557e-14\n",
      "sat_participation_yoy 5.787975543825914e-16\n"
     ]
    }
   ],
   "source": [
    "for item in final.columns[1:]:\n",
    "    k2, p = stats.normaltest(final[item])\n",
    "    print('{} {}'.format(item,p))"
   ]
  },
  {
   "cell_type": "markdown",
   "metadata": {},
   "source": [
    "Answers:Based on normaltest for p-values, only ACT English 2017, ACT Science 2017, SAT Math 2017 and SAT Math 2018 is normal.\n",
    "Visually for SAT Math, there is a very visible positive skew and a smaller second peak."
   ]
  },
  {
   "cell_type": "markdown",
   "metadata": {},
   "source": [
    "#### We generally assuming that data we sample from a population will be normally distributed. Do we observe this trend?"
   ]
  },
  {
   "cell_type": "markdown",
   "metadata": {},
   "source": [
    "Answer: No, we do not observe the trend here despite the population of student's aptitude might be normally distributed. It is not observed here because students' self selection: academically weak students with no intending going university will not take the test while academically strong students are more likely to take the test for admission and scholarship. The effects would cause the said population to be not accurate."
   ]
  },
  {
   "cell_type": "markdown",
   "metadata": {},
   "source": [
    "Does This Assumption Hold for:\n",
    "    - Math\n",
    "    - Reading\n",
    "    - Rates\n",
    "Explain your answers for each distribution and how you think this will affect estimates made from these data."
   ]
  },
  {
   "cell_type": "markdown",
   "metadata": {},
   "source": [
    "Answer:\n",
    "\n",
    "Math\n",
    "Similar to above, believes that the population of student's aptitude might be normally distributed but it is not observed here in the population data because participation. Students' self selection: academically weak students with no intending going university will not take the test while academically strong students are more likely to take the test for admission and scholarship. This will shift the raw mean score upwards and observe the two peaks (bimodal) and a right tail.\n",
    "\n",
    "Reading\n",
    "The population of student's aptitude might not be normally distributed as the SAT test is also administered overseas and English could possibly not be their first language. This will shift the raw mean score upwards and observe the two peaks (bimodal) and a right tail.\n",
    "\n",
    "Rates\n",
    "Due to the self selection effect, we see more left tail for states that are not compulsory to take tests."
   ]
  },
  {
   "cell_type": "markdown",
   "metadata": {},
   "source": [
    "#### Estimate Limits of Data\n",
    "\n",
    "Suppose we only seek to understand the relationship between SAT and ACT participation rates in 2017. \n",
    "\n",
    "##### Does it make sense to conduct statistical inference given these data specifically? \n",
    "\n",
    "Why or why not?\n",
    "\n",
    "*(think about granularity, aggregation, the relationships between populations size & rates...consider the actually populations these data describe in answering this question)*"
   ]
  },
  {
   "cell_type": "markdown",
   "metadata": {},
   "source": [
    "Answer: No. The Null hypothesis in such a inference would be H0: Participation rate (SAT) - Participation rate (ACT) = 0. However, based on the data we see, when the rate% of 1 is high, the rate% of the other test would be low. The number of students needed to move a 1% change in the participation rate for various state is vastly different. Hence, computing an average across the states does not make sense."
   ]
  },
  {
   "cell_type": "markdown",
   "metadata": {},
   "source": [
    "##### Is it appropriate to compare *these* specific SAT and ACT math scores? \n",
    "\n",
    "Why or why not?"
   ]
  },
  {
   "cell_type": "markdown",
   "metadata": {},
   "source": [
    "Answer: No. The sample population for both test are not identical and also not from the same overall population pool. We see that when states forces students to take either, the participation rate for the other test drops."
   ]
  },
  {
   "cell_type": "markdown",
   "metadata": {},
   "source": [
    "#### Statistical Evaluation of Distributions \n",
    "\n",
    "**If you feel it's appropriate**, using methods we discussed in class, run hypothesis tests to compare variables of interest in our dataset. "
   ]
  },
  {
   "cell_type": "code",
   "execution_count": 73,
   "metadata": {},
   "outputs": [],
   "source": [
    "# Code:"
   ]
  },
  {
   "cell_type": "markdown",
   "metadata": {},
   "source": [
    "## Outside Research"
   ]
  },
  {
   "cell_type": "markdown",
   "metadata": {},
   "source": [
    "Based upon your observations, choose **three** states that demonstrate interesting trends in their SAT and/or ACT participation rates. Spend some time doing outside research on state policies that might influence these rates, and summarize your findings below. **Feel free to go back and create new plots that highlight these states of interest**. If you bring in any outside tables or charts, make sure you are explicit about having borrowed them. If you quote any text, make sure that it renders as being quoted. (Make sure that you cite your sources -- check with you local instructor for citation preferences)."
   ]
  },
  {
   "cell_type": "markdown",
   "metadata": {},
   "source": [
    "For Colorado & Illinois: same reason. The state entered into new contracts with Colorado and Illinois. Students in the area take the test for free. Colorado and Illionis requires SAT as part of passing high sch.\n",
    "https://www.washingtonpost.com/education/2018/10/23/sat-reclaims-title-most-widely-used-college-admission-test/\n",
    "\n",
    "For Rhode Island: In 2018, the SATs and PSATs became a graduation requirement, part of the state’s federal education plan. The state also the SAT to students for free.\n",
    "https://www.providencejournal.com/news/20181025/with-sat-required-ri-sees-jump-in-participation-decline-in-scores\n",
    "\n",
    "For Alaska: Students in Alaska no longer need to take national test to graduate.\n",
    "https://www.adn.com/alaska-news/education/2016/06/30/students-no-longer-need-national-tests-to-graduate/"
   ]
  },
  {
   "cell_type": "code",
   "execution_count": 74,
   "metadata": {},
   "outputs": [],
   "source": [
    "# found additional materials on graduating high sch population knocking.wiche.edu\n",
    "sp = pd.read_excel('~/classes-master/Project1234/project_1/data/studentpopulation.xlsx',sheet_name=None)"
   ]
  },
  {
   "cell_type": "code",
   "execution_count": 75,
   "metadata": {},
   "outputs": [],
   "source": [
    "# it is a collection.ordereddict\n",
    "# iterating to form my own list\n",
    "sheet_name = []\n",
    "studentpop = []\n",
    "\n",
    "for k,v in sp.items():\n",
    "    sheet_name.append(k)\n",
    "    studentpop.append(v['Unnamed: 1'].sum())"
   ]
  },
  {
   "cell_type": "code",
   "execution_count": 76,
   "metadata": {},
   "outputs": [],
   "source": [
    "#zipping state and no of student to a dict\n",
    "studentpopdictionary = dict(zip(sheet_name, studentpop))"
   ]
  },
  {
   "cell_type": "code",
   "execution_count": 77,
   "metadata": {},
   "outputs": [],
   "source": [
    "# changing it back into a DF\n",
    "studentpop = pd.DataFrame.from_records(studentpopdictionary, index=[0])"
   ]
  },
  {
   "cell_type": "code",
   "execution_count": 78,
   "metadata": {},
   "outputs": [],
   "source": [
    "# formatting it so that might want to merge...\n",
    "studentpop = studentpop.transpose()"
   ]
  },
  {
   "cell_type": "code",
   "execution_count": 81,
   "metadata": {},
   "outputs": [
    {
     "data": {
      "image/png": "[encoded data removed]",
      "text/plain": [
       "<Figure size 432x288 with 1 Axes>"
      ]
     },
     "metadata": {
      "needs_background": "light"
     },
     "output_type": "display_data"
    }
   ],
   "source": [
    "# decided to just plot instead\n",
    "studentpop.reset_index()\n",
    "studentpop.columns = ['population']\n",
    "studentpop.to_csv('studentpop.csv')\n",
    "\n",
    "studentpopbar = studentpop.sort_values('population',ascending=False).head(5)\n",
    "\n",
    "studentpopbar.plot(kind='barh')\n",
    "plt.savefig('highvaluestate.png')"
   ]
  },
  {
   "cell_type": "code",
   "execution_count": null,
   "metadata": {},
   "outputs": [],
   "source": []
  },
  {
   "cell_type": "code",
   "execution_count": null,
   "metadata": {},
   "outputs": [],
   "source": []
  },
  {
   "cell_type": "markdown",
   "metadata": {},
   "source": [
    "## Conclusions and Recommendations"
   ]
  },
  {
   "cell_type": "markdown",
   "metadata": {},
   "source": [
    "Based on your exploration of the data, what are you key takeaways and recommendations? Choose one state with a lower participation rate and provide a suggestion for how the College Board might increase participation amongst graduating seniors in this state. Are there additional data you desire that would better inform your investigations?"
   ]
  },
  {
   "cell_type": "markdown",
   "metadata": {},
   "source": [
    "Summary of key findings\n",
    "\n",
    "1.SAT participation rate have increased from 2017 to 2018 while ACT participation rate have decreased from 2017 to 2018.\n",
    "2.Whilst SAT participation rates have increased, we are still have alot to catch up as ACT have alot of states with 100% participation rates.\n",
    "3.Drivers of the big increase in 2018 of the SAT participation rate: 2 state with policy changes and a general creep up across quite a lot of states.\n",
    "\n",
    "States for us to focus on: (1) California (2) Texas with California being highest value.\n",
    "\n",
    "Other interesting facts:\n",
    "States with high SAT participation rates are in the northeast of US while states with high ACT dominate the middle part of US.\n",
    "\n",
    "Why? I pick California:\n",
    "California have the highest number of graduating high school students across USA. Texas is second.\n",
    "California has 60% participation rate while Texas is at 66%.\n",
    "California will be of highest value to us.\n",
    "Both states not stronghold of SAT or ACT.\n",
    "\n",
    "Why not purely low participation rate?\n",
    "Students study in groups.\n",
    "Easier to build momentum on >50% then break new ground.\n",
    "\n",
    "How to increase participation\n",
    "Lobby for:\n",
    "1.Compulsory as part of the requirements to graduate.\n",
    "2.For the state to pay for the test.\n",
    "3.University to continue requiring test scores as part of admission.\n",
    "4.Test scores as criteria for scholarship consideration.\n",
    "\n",
    "Provide support for lower income but academically inclined students:\n",
    "1. Full/partial scholarship\n",
    "Lower income but academically inclined students may take test and pay for it given that a scholarship would greatly in future university fees.\n",
    "\n",
    "\n"
   ]
  }
 ],
 "metadata": {
  "anaconda-cloud": {},
  "kernelspec": {
   "display_name": "Python 3",
   "language": "python",
   "name": "python3"
  },
  "language_info": {
   "codemirror_mode": {
    "name": "ipython",
    "version": 3
   },
   "file_extension": ".py",
   "mimetype": "text/x-python",
   "name": "python",
   "nbconvert_exporter": "python",
   "pygments_lexer": "ipython3",
   "version": "3.7.3"
  }
 },
 "nbformat": 4,
 "nbformat_minor": 2
}
